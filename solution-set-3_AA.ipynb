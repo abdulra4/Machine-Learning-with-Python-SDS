{
 "cells": [
  {
   "cell_type": "markdown",
   "metadata": {},
   "source": [
    "# Intensive Module in Machine Learning\n",
    "# Problem set 3: Regularisation "
   ]
  },
  {
   "cell_type": "markdown",
   "metadata": {},
   "source": [
    "If you are looking at the pdf/html version of this document, start by running the command `jupyter notebook` to launch an interactive notebook and then navigate to the correct folder and open this file `problem-set-3.ipynb`. Import your default packages for manipulating data and plotting:"
   ]
  },
  {
   "cell_type": "code",
   "execution_count": 7,
   "metadata": {
    "collapsed": true
   },
   "outputs": [],
   "source": [
    "import numpy as np\n",
    "import pandas as pd\n",
    "from matplotlib import pyplot as plt\n",
    "%matplotlib inline "
   ]
  },
  {
   "cell_type": "markdown",
   "metadata": {},
   "source": [
    "## 1. Subset selection"
   ]
  },
  {
   "cell_type": "markdown",
   "metadata": {},
   "source": [
    "Let us return to the California Housing data set with the data splitted into train and test set as before. Our aim is to perform subset selection on the features."
   ]
  },
  {
   "cell_type": "code",
   "execution_count": 8,
   "metadata": {
    "collapsed": true
   },
   "outputs": [],
   "source": [
    "data = pd.read_csv('California-Housing.txt', sep=\",\")\n",
    "data.head()\n",
    "\n",
    "#Fix random seed for reproducability\n",
    "np.seed = 200000\n",
    "#Split data into training and testing data\n",
    "mask = np.random.rand(len(data)) < 0.8\n",
    "train = data[mask]\n",
    "test = data[~mask]\n",
    "\n",
    "X_train = train.iloc[:,1:]\n",
    "y_train = train.iloc[:,0]\n",
    "X_test = test.iloc[:,1:]\n",
    "y_test = test.iloc[:,0]"
   ]
  },
  {
   "cell_type": "markdown",
   "metadata": {},
   "source": [
    "a) Perform best subset selection on the linear regression model. Plot test error as a function of number of (optimal) predictors."
   ]
  },
  {
   "cell_type": "markdown",
   "metadata": {
    "collapsed": true
   },
   "source": [
    "<span style=\"color:blue\"> We can perform best subset selection by identifying the best model that contains a given number of predictors, where best is quantified using test set error. We'll define a helper function to outputs the best set of variables for each model size: </span>"
   ]
  },
  {
   "cell_type": "code",
   "execution_count": 30,
   "metadata": {},
   "outputs": [
    {
     "name": "stderr",
     "output_type": "stream",
     "text": [
      "/Users/ablaas/anaconda3/lib/python3.6/site-packages/statsmodels/compat/pandas.py:56: FutureWarning: The pandas.core.datetools module is deprecated and will be removed in a future version. Please use the pandas.tseries module instead.\n",
      "  from pandas.core import datetools\n"
     ]
    }
   ],
   "source": [
    "import statsmodels.api as sm\n",
    "\n",
    "def fit_subset(feature_set):\n",
    "    # Fit model on feature_set and calculate test error\n",
    "    model = sm.OLS(y_train,X_train[list(feature_set)])\n",
    "    regr = model.fit()\n",
    "    test_error = ((regr.predict(X_test[list(feature_set)]) - y_test) ** 2).sum()\n",
    "    return {\"model\":regr, \"test_error\": test_error}"
   ]
  },
  {
   "cell_type": "code",
   "execution_count": 31,
   "metadata": {
    "collapsed": true
   },
   "outputs": [],
   "source": [
    "import itertools\n",
    "\n",
    "def best_model(k):\n",
    "    #Takes number of features k and after fitting all possible combinations of k feature models to data,\n",
    "    #outputs the model with the lowest test set error\n",
    "    results = []\n",
    "    for combination in itertools.combinations(X_train.columns, k):\n",
    "        results.append(fit_subset(combination))\n",
    "    # Wrap everything up in a nice dataframe\n",
    "    models = pd.DataFrame(results)\n",
    "    # Choose the model with the highest RSS\n",
    "    best_model = models.loc[models['test_error'].argmin()]\n",
    "    return best_model\n"
   ]
  },
  {
   "cell_type": "code",
   "execution_count": 40,
   "metadata": {
    "collapsed": true
   },
   "outputs": [],
   "source": [
    "# Lets get the best model for each k using a for loop\n",
    "\n",
    "models_best = pd.DataFrame(columns=[\"test_error\", \"model\"])\n",
    "\n",
    "for i in range(1,8):\n",
    "    models_best.loc[i] = best_model(i)"
   ]
  },
  {
   "cell_type": "markdown",
   "metadata": {},
   "source": [
    "<span style=\"color:blue\"> For any number k, we can now inspect, which subset of k features was selected because it had the lowest test error. </span>"
   ]
  },
  {
   "cell_type": "code",
   "execution_count": 39,
   "metadata": {},
   "outputs": [
    {
     "name": "stdout",
     "output_type": "stream",
     "text": [
      "                            OLS Regression Results                            \n",
      "==============================================================================\n",
      "Dep. Variable:       MedianHouseValue   R-squared:                       0.895\n",
      "Model:                            OLS   Adj. R-squared:                  0.895\n",
      "Method:                 Least Squares   F-statistic:                 3.364e+04\n",
      "Date:                Thu, 22 Nov 2018   Prob (F-statistic):               0.00\n",
      "Time:                        09:23:04   Log-Likelihood:                -16593.\n",
      "No. Observations:               15714   AIC:                         3.319e+04\n",
      "Df Residuals:                   15710   BIC:                         3.322e+04\n",
      "Df Model:                           4                                         \n",
      "Covariance Type:            nonrobust                                         \n",
      "=====================================================================================\n",
      "                        coef    std err          t      P>|t|      [0.025      0.975]\n",
      "-------------------------------------------------------------------------------------\n",
      "MedianIncome          0.5002      0.004    131.691      0.000       0.493       0.508\n",
      "HousingMedianAge      0.0105      0.000     28.578      0.000       0.010       0.011\n",
      "AverageNoRooms       -0.1975      0.006    -32.276      0.000      -0.209      -0.185\n",
      "AverageNoBedrooms     0.7792      0.026     29.507      0.000       0.727       0.831\n",
      "==============================================================================\n",
      "Omnibus:                     2913.377   Durbin-Watson:                   0.880\n",
      "Prob(Omnibus):                  0.000   Jarque-Bera (JB):             8499.113\n",
      "Skew:                           0.975   Prob(JB):                         0.00\n",
      "Kurtosis:                       6.029   Cond. No.                         154.\n",
      "==============================================================================\n",
      "\n",
      "Warnings:\n",
      "[1] Standard Errors assume that the covariance matrix of the errors is correctly specified.\n"
     ]
    }
   ],
   "source": [
    "print(models_best.loc[4, \"model\"].summary())"
   ]
  },
  {
   "cell_type": "markdown",
   "metadata": {},
   "source": [
    "b) What are some of the shortcomings of best subset selection in practice?"
   ]
  },
  {
   "cell_type": "markdown",
   "metadata": {},
   "source": [
    "<span style=\"color:blue\"> Most importantly, the number of models fitted increases exponentially with the number of features in the data set, as the number of possible subsets of k variables out of n variables grows exponentially in n. This means for large number of features we can not implement this method as it would take too long. Additionally, test set is created randomly from data, so running best subset selection on one test set could give arbitrary results. Running it on multiple test sets (cross validation) can further inflate computational cost. </span>"
   ]
  },
  {
   "cell_type": "markdown",
   "metadata": {},
   "source": [
    "."
   ]
  },
  {
   "cell_type": "markdown",
   "metadata": {},
   "source": [
    "## 2. Rigid regression and lasso"
   ]
  },
  {
   "cell_type": "markdown",
   "metadata": {},
   "source": [
    "a) Perform rigid regression on the Housing data set used as above."
   ]
  },
  {
   "cell_type": "code",
   "execution_count": 134,
   "metadata": {},
   "outputs": [
    {
     "name": "stdout",
     "output_type": "stream",
     "text": [
      "Test error = 0.407471811562\n"
     ]
    }
   ],
   "source": [
    "from sklearn.linear_model import Ridge\n",
    "from sklearn.metrics import mean_squared_error\n",
    "\n",
    "model = Ridge(alpha=1.0)\n",
    "model.fit(X_train, y_train)\n",
    "\n",
    "print('Test error =',mean_squared_error(model.predict(X_test), y_test))"
   ]
  },
  {
   "cell_type": "markdown",
   "metadata": {},
   "source": [
    "b) Plot the test error as a function of the shrinkage parameter $\\lambda$. How is model complexity related to the shrinkage parameter?"
   ]
  },
  {
   "cell_type": "code",
   "execution_count": 135,
   "metadata": {},
   "outputs": [
    {
     "data": {
      "image/png": "[encoded data removed]",
      "text/plain": [
       "<matplotlib.figure.Figure at 0x1a0e355e80>"
      ]
     },
     "metadata": {},
     "output_type": "display_data"
    }
   ],
   "source": [
    "test_errors = []\n",
    "\n",
    "alphas = np.logspace(-3, 3, 200)\n",
    "\n",
    "# Train the model with different regularisation strengths\n",
    "for a in alphas:\n",
    "    model.set_params(alpha=a)\n",
    "    model.fit(X_train, y_train)\n",
    "    test_errors.append(mean_squared_error(model.predict(X_test), y_test))\n",
    "    \n",
    "plt.figure(figsize=(12, 6))\n",
    "\n",
    "ax = plt.gca()\n",
    "ax.plot(alphas, test_errors)\n",
    "ax.set_xscale('log')\n",
    "plt.xlabel('alpha')\n",
    "plt.ylabel('test error')\n",
    "plt.title('Test error as a function of the rigid regularization')\n",
    "#plt.axis('tight')\n",
    "\n",
    "plt.show()"
   ]
  },
  {
   "cell_type": "markdown",
   "metadata": {},
   "source": [
    "c) Now repeat the above analysis using lasso regression."
   ]
  },
  {
   "cell_type": "code",
   "execution_count": 59,
   "metadata": {},
   "outputs": [
    {
     "name": "stdout",
     "output_type": "stream",
     "text": [
      "Test error = 0.396442427777\n"
     ]
    },
    {
     "data": {
      "image/png": "[encoded data removed]",
      "text/plain": [
       "<matplotlib.figure.Figure at 0x1a0e314908>"
      ]
     },
     "metadata": {},
     "output_type": "display_data"
    }
   ],
   "source": [
    "from sklearn.linear_model import Lasso\n",
    "\n",
    "model2 = Lasso(alpha=1.0)\n",
    "model2.fit(X_train, y_train)\n",
    "\n",
    "print('Test error =',mean_squared_error(model.predict(X_test), y_test))\n",
    "\n",
    "test_errors = []\n",
    "\n",
    "alphas = np.logspace(-3, 3, 200)\n",
    "\n",
    "# Train the model with different regularisation strengths\n",
    "for a in alphas:\n",
    "    model2.set_params(alpha=a)\n",
    "    model2.fit(X_train, y_train)\n",
    "    test_errors.append(mean_squared_error(model2.predict(X_test), y_test))\n",
    "    \n",
    "plt.figure(figsize=(12, 6))\n",
    "\n",
    "ax = plt.gca()\n",
    "ax.plot(alphas, test_errors)\n",
    "ax.set_xscale('log')\n",
    "plt.xlabel('alpha')\n",
    "plt.ylabel('test error')\n",
    "plt.title('Test error as a function of the Lasso regularization')\n",
    "#plt.axis('tight')\n",
    "\n",
    "plt.show()"
   ]
  },
  {
   "cell_type": "markdown",
   "metadata": {},
   "source": [
    "d) Lasso automatically shrinks some of the parameters to zero, thus effectively performing subset selection. Which are the optimal predictors of the best model and how does this compare to the results from exercise 1?"
   ]
  },
  {
   "cell_type": "code",
   "execution_count": 63,
   "metadata": {},
   "outputs": [
    {
     "name": "stdout",
     "output_type": "stream",
     "text": [
      "[  3.66457137e-01   9.56054070e-03   0.00000000e+00   0.00000000e+00\n",
      "   9.28154231e-06  -2.88017166e-03  -3.12587957e-01  -3.15906890e-01]\n"
     ]
    }
   ],
   "source": [
    "model2.set_params(alpha=0.03)\n",
    "model2.fit(X_train, y_train)\n",
    "\n",
    "print(model2.coef_)"
   ]
  },
  {
   "cell_type": "markdown",
   "metadata": {},
   "source": [
    "## 3. High-dimensional data"
   ]
  },
  {
   "cell_type": "markdown",
   "metadata": {},
   "source": [
    "In this case study we look at the [Arcene data set](http://archive.ics.uci.edu/ml/datasets/Arcene) which is a nice example of high-dimensional data (see [Arcene data set webpage](http://archive.ics.uci.edu/ml/datasets/Arcene) for more information). The Arcene data set is data for a classification problem where we want to infer cancer (label `1`) or no cancer (label `-1`) from mass-spectroscopy data. The training set consists of only n=100 observations. However, the mass-spectrometric data gives rise to p=10000 predictors. Thus we have a typical example of high-dimensional data with $p\\gg n$."
   ]
  },
  {
   "cell_type": "markdown",
   "metadata": {},
   "source": [
    "a) Load the data, both train and valiadation set, and familiarise yourself with it. Potentially do some descriptive analysis and plots."
   ]
  },
  {
   "cell_type": "code",
   "execution_count": 103,
   "metadata": {},
   "outputs": [
    {
     "data": {
      "text/html": [
       "<div>\n",
       "<style>\n",
       "    .dataframe thead tr:only-child th {\n",
       "        text-align: right;\n",
       "    }\n",
       "\n",
       "    .dataframe thead th {\n",
       "        text-align: left;\n",
       "    }\n",
       "\n",
       "    .dataframe tbody tr th {\n",
       "        vertical-align: top;\n",
       "    }\n",
       "</style>\n",
       "<table border=\"1\" class=\"dataframe\">\n",
       "  <thead>\n",
       "    <tr style=\"text-align: right;\">\n",
       "      <th></th>\n",
       "      <th>0</th>\n",
       "      <th>1</th>\n",
       "      <th>2</th>\n",
       "      <th>3</th>\n",
       "      <th>4</th>\n",
       "      <th>5</th>\n",
       "      <th>6</th>\n",
       "      <th>7</th>\n",
       "      <th>8</th>\n",
       "      <th>9</th>\n",
       "      <th>...</th>\n",
       "      <th>9990</th>\n",
       "      <th>9991</th>\n",
       "      <th>9992</th>\n",
       "      <th>9993</th>\n",
       "      <th>9994</th>\n",
       "      <th>9995</th>\n",
       "      <th>9996</th>\n",
       "      <th>9997</th>\n",
       "      <th>9998</th>\n",
       "      <th>9999</th>\n",
       "    </tr>\n",
       "  </thead>\n",
       "  <tbody>\n",
       "    <tr>\n",
       "      <th>0</th>\n",
       "      <td>0</td>\n",
       "      <td>71</td>\n",
       "      <td>0</td>\n",
       "      <td>95</td>\n",
       "      <td>0</td>\n",
       "      <td>538</td>\n",
       "      <td>404</td>\n",
       "      <td>20</td>\n",
       "      <td>0</td>\n",
       "      <td>0</td>\n",
       "      <td>...</td>\n",
       "      <td>255</td>\n",
       "      <td>570</td>\n",
       "      <td>86</td>\n",
       "      <td>0</td>\n",
       "      <td>36</td>\n",
       "      <td>0</td>\n",
       "      <td>80</td>\n",
       "      <td>0</td>\n",
       "      <td>0</td>\n",
       "      <td>524</td>\n",
       "    </tr>\n",
       "    <tr>\n",
       "      <th>1</th>\n",
       "      <td>0</td>\n",
       "      <td>41</td>\n",
       "      <td>82</td>\n",
       "      <td>165</td>\n",
       "      <td>60</td>\n",
       "      <td>554</td>\n",
       "      <td>379</td>\n",
       "      <td>0</td>\n",
       "      <td>71</td>\n",
       "      <td>0</td>\n",
       "      <td>...</td>\n",
       "      <td>213</td>\n",
       "      <td>605</td>\n",
       "      <td>69</td>\n",
       "      <td>7</td>\n",
       "      <td>473</td>\n",
       "      <td>0</td>\n",
       "      <td>57</td>\n",
       "      <td>0</td>\n",
       "      <td>284</td>\n",
       "      <td>423</td>\n",
       "    </tr>\n",
       "    <tr>\n",
       "      <th>2</th>\n",
       "      <td>0</td>\n",
       "      <td>0</td>\n",
       "      <td>1</td>\n",
       "      <td>40</td>\n",
       "      <td>0</td>\n",
       "      <td>451</td>\n",
       "      <td>402</td>\n",
       "      <td>0</td>\n",
       "      <td>0</td>\n",
       "      <td>0</td>\n",
       "      <td>...</td>\n",
       "      <td>235</td>\n",
       "      <td>593</td>\n",
       "      <td>28</td>\n",
       "      <td>0</td>\n",
       "      <td>24</td>\n",
       "      <td>0</td>\n",
       "      <td>90</td>\n",
       "      <td>0</td>\n",
       "      <td>34</td>\n",
       "      <td>508</td>\n",
       "    </tr>\n",
       "    <tr>\n",
       "      <th>3</th>\n",
       "      <td>0</td>\n",
       "      <td>56</td>\n",
       "      <td>44</td>\n",
       "      <td>275</td>\n",
       "      <td>14</td>\n",
       "      <td>511</td>\n",
       "      <td>470</td>\n",
       "      <td>0</td>\n",
       "      <td>0</td>\n",
       "      <td>0</td>\n",
       "      <td>...</td>\n",
       "      <td>91</td>\n",
       "      <td>600</td>\n",
       "      <td>0</td>\n",
       "      <td>26</td>\n",
       "      <td>86</td>\n",
       "      <td>0</td>\n",
       "      <td>102</td>\n",
       "      <td>0</td>\n",
       "      <td>0</td>\n",
       "      <td>469</td>\n",
       "    </tr>\n",
       "    <tr>\n",
       "      <th>4</th>\n",
       "      <td>105</td>\n",
       "      <td>0</td>\n",
       "      <td>141</td>\n",
       "      <td>348</td>\n",
       "      <td>0</td>\n",
       "      <td>268</td>\n",
       "      <td>329</td>\n",
       "      <td>0</td>\n",
       "      <td>0</td>\n",
       "      <td>1</td>\n",
       "      <td>...</td>\n",
       "      <td>813</td>\n",
       "      <td>0</td>\n",
       "      <td>0</td>\n",
       "      <td>0</td>\n",
       "      <td>0</td>\n",
       "      <td>190</td>\n",
       "      <td>301</td>\n",
       "      <td>0</td>\n",
       "      <td>0</td>\n",
       "      <td>354</td>\n",
       "    </tr>\n",
       "  </tbody>\n",
       "</table>\n",
       "<p>5 rows × 10000 columns</p>\n",
       "</div>"
      ],
      "text/plain": [
       "   0     1     2     3     4     5     6     7     8     9     ...   9990  \\\n",
       "0     0    71     0    95     0   538   404    20     0     0  ...    255   \n",
       "1     0    41    82   165    60   554   379     0    71     0  ...    213   \n",
       "2     0     0     1    40     0   451   402     0     0     0  ...    235   \n",
       "3     0    56    44   275    14   511   470     0     0     0  ...     91   \n",
       "4   105     0   141   348     0   268   329     0     0     1  ...    813   \n",
       "\n",
       "   9991  9992  9993  9994  9995  9996  9997  9998  9999  \n",
       "0   570    86     0    36     0    80     0     0   524  \n",
       "1   605    69     7   473     0    57     0   284   423  \n",
       "2   593    28     0    24     0    90     0    34   508  \n",
       "3   600     0    26    86     0   102     0     0   469  \n",
       "4     0     0     0     0   190   301     0     0   354  \n",
       "\n",
       "[5 rows x 10000 columns]"
      ]
     },
     "execution_count": 103,
     "metadata": {},
     "output_type": "execute_result"
    }
   ],
   "source": [
    "#Let's load the data\n",
    "train_data = pd.read_csv('./Arcene-data/arcene_train.data.txt', sep=\" \", header= None)\n",
    "train_data = train_data.iloc[:, :-1]\n",
    "train_labels = np.squeeze(pd.read_csv('./Arcene-data/arcene_train.labels.txt', sep=\" \", header= None))\n",
    "\n",
    "validation_data = pd.read_csv('./Arcene-data/arcene_valid.data.txt', sep=\" \", header= None)\n",
    "validation_data = validation_data.iloc[:, :-1]\n",
    "validation_labels = np.squeeze(pd.read_csv('./Arcene-data/arcene_valid.labels.txt', sep=\" \", header= None))\n",
    "\n",
    "test_data = pd.read_csv('./Arcene-data/arcene_test.data.txt', sep=\" \", header= None)\n",
    "test_data = test_data.iloc[:, :-1]\n",
    "\n",
    "#Let's check out the first few rows of the training data to see what the data looks like\n",
    "train_data.head()"
   ]
  },
  {
   "cell_type": "code",
   "execution_count": 104,
   "metadata": {},
   "outputs": [
    {
     "data": {
      "text/html": [
       "<div>\n",
       "<style>\n",
       "    .dataframe thead tr:only-child th {\n",
       "        text-align: right;\n",
       "    }\n",
       "\n",
       "    .dataframe thead th {\n",
       "        text-align: left;\n",
       "    }\n",
       "\n",
       "    .dataframe tbody tr th {\n",
       "        vertical-align: top;\n",
       "    }\n",
       "</style>\n",
       "<table border=\"1\" class=\"dataframe\">\n",
       "  <thead>\n",
       "    <tr style=\"text-align: right;\">\n",
       "      <th></th>\n",
       "      <th>0</th>\n",
       "      <th>1</th>\n",
       "      <th>2</th>\n",
       "      <th>3</th>\n",
       "      <th>4</th>\n",
       "      <th>5</th>\n",
       "      <th>6</th>\n",
       "      <th>7</th>\n",
       "      <th>8</th>\n",
       "      <th>9</th>\n",
       "      <th>...</th>\n",
       "      <th>9990</th>\n",
       "      <th>9991</th>\n",
       "      <th>9992</th>\n",
       "      <th>9993</th>\n",
       "      <th>9994</th>\n",
       "      <th>9995</th>\n",
       "      <th>9996</th>\n",
       "      <th>9997</th>\n",
       "      <th>9998</th>\n",
       "      <th>9999</th>\n",
       "    </tr>\n",
       "  </thead>\n",
       "  <tbody>\n",
       "    <tr>\n",
       "      <th>count</th>\n",
       "      <td>100.000000</td>\n",
       "      <td>100.000000</td>\n",
       "      <td>100.00000</td>\n",
       "      <td>100.000000</td>\n",
       "      <td>100.000000</td>\n",
       "      <td>100.000000</td>\n",
       "      <td>100.000000</td>\n",
       "      <td>100.000000</td>\n",
       "      <td>100.000000</td>\n",
       "      <td>100.000000</td>\n",
       "      <td>...</td>\n",
       "      <td>100.000000</td>\n",
       "      <td>100.000000</td>\n",
       "      <td>100.000000</td>\n",
       "      <td>100.000000</td>\n",
       "      <td>100.000000</td>\n",
       "      <td>100.000000</td>\n",
       "      <td>100.000000</td>\n",
       "      <td>100.000000</td>\n",
       "      <td>100.000000</td>\n",
       "      <td>100.000000</td>\n",
       "    </tr>\n",
       "    <tr>\n",
       "      <th>mean</th>\n",
       "      <td>37.060000</td>\n",
       "      <td>35.330000</td>\n",
       "      <td>56.50000</td>\n",
       "      <td>329.860000</td>\n",
       "      <td>17.110000</td>\n",
       "      <td>412.090000</td>\n",
       "      <td>232.330000</td>\n",
       "      <td>6.510000</td>\n",
       "      <td>48.170000</td>\n",
       "      <td>63.690000</td>\n",
       "      <td>...</td>\n",
       "      <td>363.780000</td>\n",
       "      <td>396.480000</td>\n",
       "      <td>45.920000</td>\n",
       "      <td>18.210000</td>\n",
       "      <td>106.070000</td>\n",
       "      <td>165.350000</td>\n",
       "      <td>197.650000</td>\n",
       "      <td>0.360000</td>\n",
       "      <td>88.530000</td>\n",
       "      <td>365.750000</td>\n",
       "    </tr>\n",
       "    <tr>\n",
       "      <th>std</th>\n",
       "      <td>49.763647</td>\n",
       "      <td>37.690943</td>\n",
       "      <td>68.64011</td>\n",
       "      <td>164.264508</td>\n",
       "      <td>26.348057</td>\n",
       "      <td>108.375152</td>\n",
       "      <td>186.106142</td>\n",
       "      <td>13.149102</td>\n",
       "      <td>57.624009</td>\n",
       "      <td>91.626349</td>\n",
       "      <td>...</td>\n",
       "      <td>262.439741</td>\n",
       "      <td>233.176462</td>\n",
       "      <td>47.886161</td>\n",
       "      <td>23.914112</td>\n",
       "      <td>141.747054</td>\n",
       "      <td>145.380752</td>\n",
       "      <td>113.122118</td>\n",
       "      <td>2.110675</td>\n",
       "      <td>109.698619</td>\n",
       "      <td>106.055386</td>\n",
       "    </tr>\n",
       "    <tr>\n",
       "      <th>min</th>\n",
       "      <td>0.000000</td>\n",
       "      <td>0.000000</td>\n",
       "      <td>0.00000</td>\n",
       "      <td>27.000000</td>\n",
       "      <td>0.000000</td>\n",
       "      <td>181.000000</td>\n",
       "      <td>0.000000</td>\n",
       "      <td>0.000000</td>\n",
       "      <td>0.000000</td>\n",
       "      <td>0.000000</td>\n",
       "      <td>...</td>\n",
       "      <td>61.000000</td>\n",
       "      <td>0.000000</td>\n",
       "      <td>0.000000</td>\n",
       "      <td>0.000000</td>\n",
       "      <td>0.000000</td>\n",
       "      <td>0.000000</td>\n",
       "      <td>41.000000</td>\n",
       "      <td>0.000000</td>\n",
       "      <td>0.000000</td>\n",
       "      <td>0.000000</td>\n",
       "    </tr>\n",
       "    <tr>\n",
       "      <th>25%</th>\n",
       "      <td>0.000000</td>\n",
       "      <td>0.000000</td>\n",
       "      <td>0.00000</td>\n",
       "      <td>213.750000</td>\n",
       "      <td>0.000000</td>\n",
       "      <td>314.250000</td>\n",
       "      <td>0.000000</td>\n",
       "      <td>0.000000</td>\n",
       "      <td>0.000000</td>\n",
       "      <td>0.000000</td>\n",
       "      <td>...</td>\n",
       "      <td>192.500000</td>\n",
       "      <td>309.000000</td>\n",
       "      <td>0.000000</td>\n",
       "      <td>0.000000</td>\n",
       "      <td>0.000000</td>\n",
       "      <td>0.000000</td>\n",
       "      <td>94.500000</td>\n",
       "      <td>0.000000</td>\n",
       "      <td>0.000000</td>\n",
       "      <td>314.500000</td>\n",
       "    </tr>\n",
       "    <tr>\n",
       "      <th>50%</th>\n",
       "      <td>15.000000</td>\n",
       "      <td>25.000000</td>\n",
       "      <td>19.50000</td>\n",
       "      <td>333.500000</td>\n",
       "      <td>0.000000</td>\n",
       "      <td>441.000000</td>\n",
       "      <td>266.000000</td>\n",
       "      <td>0.000000</td>\n",
       "      <td>30.000000</td>\n",
       "      <td>0.500000</td>\n",
       "      <td>...</td>\n",
       "      <td>250.000000</td>\n",
       "      <td>468.500000</td>\n",
       "      <td>34.500000</td>\n",
       "      <td>2.500000</td>\n",
       "      <td>48.500000</td>\n",
       "      <td>186.000000</td>\n",
       "      <td>167.000000</td>\n",
       "      <td>0.000000</td>\n",
       "      <td>38.500000</td>\n",
       "      <td>364.500000</td>\n",
       "    </tr>\n",
       "    <tr>\n",
       "      <th>75%</th>\n",
       "      <td>57.500000</td>\n",
       "      <td>59.750000</td>\n",
       "      <td>107.25000</td>\n",
       "      <td>443.000000</td>\n",
       "      <td>29.000000</td>\n",
       "      <td>501.250000</td>\n",
       "      <td>422.750000</td>\n",
       "      <td>4.500000</td>\n",
       "      <td>79.250000</td>\n",
       "      <td>125.000000</td>\n",
       "      <td>...</td>\n",
       "      <td>482.000000</td>\n",
       "      <td>579.250000</td>\n",
       "      <td>75.250000</td>\n",
       "      <td>34.250000</td>\n",
       "      <td>140.000000</td>\n",
       "      <td>276.500000</td>\n",
       "      <td>295.750000</td>\n",
       "      <td>0.000000</td>\n",
       "      <td>165.500000</td>\n",
       "      <td>446.500000</td>\n",
       "    </tr>\n",
       "    <tr>\n",
       "      <th>max</th>\n",
       "      <td>188.000000</td>\n",
       "      <td>218.000000</td>\n",
       "      <td>236.00000</td>\n",
       "      <td>677.000000</td>\n",
       "      <td>99.000000</td>\n",
       "      <td>583.000000</td>\n",
       "      <td>493.000000</td>\n",
       "      <td>55.000000</td>\n",
       "      <td>202.000000</td>\n",
       "      <td>391.000000</td>\n",
       "      <td>...</td>\n",
       "      <td>863.000000</td>\n",
       "      <td>654.000000</td>\n",
       "      <td>195.000000</td>\n",
       "      <td>83.000000</td>\n",
       "      <td>656.000000</td>\n",
       "      <td>485.000000</td>\n",
       "      <td>422.000000</td>\n",
       "      <td>18.000000</td>\n",
       "      <td>392.000000</td>\n",
       "      <td>533.000000</td>\n",
       "    </tr>\n",
       "  </tbody>\n",
       "</table>\n",
       "<p>8 rows × 10000 columns</p>\n",
       "</div>"
      ],
      "text/plain": [
       "             0           1          2           3           4           5     \\\n",
       "count  100.000000  100.000000  100.00000  100.000000  100.000000  100.000000   \n",
       "mean    37.060000   35.330000   56.50000  329.860000   17.110000  412.090000   \n",
       "std     49.763647   37.690943   68.64011  164.264508   26.348057  108.375152   \n",
       "min      0.000000    0.000000    0.00000   27.000000    0.000000  181.000000   \n",
       "25%      0.000000    0.000000    0.00000  213.750000    0.000000  314.250000   \n",
       "50%     15.000000   25.000000   19.50000  333.500000    0.000000  441.000000   \n",
       "75%     57.500000   59.750000  107.25000  443.000000   29.000000  501.250000   \n",
       "max    188.000000  218.000000  236.00000  677.000000   99.000000  583.000000   \n",
       "\n",
       "             6           7           8           9        ...            9990  \\\n",
       "count  100.000000  100.000000  100.000000  100.000000     ...      100.000000   \n",
       "mean   232.330000    6.510000   48.170000   63.690000     ...      363.780000   \n",
       "std    186.106142   13.149102   57.624009   91.626349     ...      262.439741   \n",
       "min      0.000000    0.000000    0.000000    0.000000     ...       61.000000   \n",
       "25%      0.000000    0.000000    0.000000    0.000000     ...      192.500000   \n",
       "50%    266.000000    0.000000   30.000000    0.500000     ...      250.000000   \n",
       "75%    422.750000    4.500000   79.250000  125.000000     ...      482.000000   \n",
       "max    493.000000   55.000000  202.000000  391.000000     ...      863.000000   \n",
       "\n",
       "             9991        9992        9993        9994        9995        9996  \\\n",
       "count  100.000000  100.000000  100.000000  100.000000  100.000000  100.000000   \n",
       "mean   396.480000   45.920000   18.210000  106.070000  165.350000  197.650000   \n",
       "std    233.176462   47.886161   23.914112  141.747054  145.380752  113.122118   \n",
       "min      0.000000    0.000000    0.000000    0.000000    0.000000   41.000000   \n",
       "25%    309.000000    0.000000    0.000000    0.000000    0.000000   94.500000   \n",
       "50%    468.500000   34.500000    2.500000   48.500000  186.000000  167.000000   \n",
       "75%    579.250000   75.250000   34.250000  140.000000  276.500000  295.750000   \n",
       "max    654.000000  195.000000   83.000000  656.000000  485.000000  422.000000   \n",
       "\n",
       "             9997        9998        9999  \n",
       "count  100.000000  100.000000  100.000000  \n",
       "mean     0.360000   88.530000  365.750000  \n",
       "std      2.110675  109.698619  106.055386  \n",
       "min      0.000000    0.000000    0.000000  \n",
       "25%      0.000000    0.000000  314.500000  \n",
       "50%      0.000000   38.500000  364.500000  \n",
       "75%      0.000000  165.500000  446.500000  \n",
       "max     18.000000  392.000000  533.000000  \n",
       "\n",
       "[8 rows x 10000 columns]"
      ]
     },
     "execution_count": 104,
     "metadata": {},
     "output_type": "execute_result"
    }
   ],
   "source": [
    "#Let's look at some descriptions as well\n",
    "train_data.describe()"
   ]
  },
  {
   "cell_type": "markdown",
   "metadata": {},
   "source": [
    "b) So far we focused on lasso for regression, but we can also apply the l1 regulariser to logistic regression as is needed for a classification problem like the one above. Perform lasso logistic regression on the above training data. Plot the test error as a function of the shrinkage parameter. What is your best model. "
   ]
  },
  {
   "cell_type": "code",
   "execution_count": 118,
   "metadata": {},
   "outputs": [
    {
     "name": "stdout",
     "output_type": "stream",
     "text": [
      "Validation error = 0.15\n"
     ]
    },
    {
     "data": {
      "image/png": "[encoded data removed]",
      "text/plain": [
       "<matplotlib.figure.Figure at 0x1a0e3145f8>"
      ]
     },
     "metadata": {},
     "output_type": "display_data"
    }
   ],
   "source": [
    "from sklearn.linear_model import LogisticRegression\n",
    "\n",
    "model3 = LogisticRegression(penalty='l1', tol=0.01, solver='saga')\n",
    "model3.fit(train_data, train_labels)\n",
    "\n",
    "print('Validation error =',1-model3.score(validation_data,validation_labels) )\n",
    "\n",
    "validation_errors = []\n",
    "\n",
    "alphas = np.logspace(-4, 2, 50)\n",
    "\n",
    "# Train the model with different regularisation strengths\n",
    "for a in alphas:\n",
    "    model3.set_params(C=1.0/a)\n",
    "    model3.fit(train_data, train_labels)\n",
    "    validation_errors.append(1-model3.score(validation_data,validation_labels))\n",
    "    \n",
    "plt.figure(figsize=(12, 6))\n",
    "\n",
    "ax = plt.gca()\n",
    "ax.plot(alphas, validation_errors)\n",
    "ax.set_xscale('log')\n",
    "plt.xlabel('alpha')\n",
    "plt.ylabel('validation error')\n",
    "plt.title('Validation error as a function of the Lasso regularization of logistic regression model')\n",
    "#plt.axis('tight')\n",
    "\n",
    "plt.show()"
   ]
  },
  {
   "cell_type": "markdown",
   "metadata": {},
   "source": [
    "<span style=\"color:blue\"> Validation accuracy clearly starts to degrade beyond $\\alpha > 1$, but between $0.001$ and $1$ the differences seem to depend on optimisation initialisations. Therefore we select $\\alpha = 1$, which penalises the most and thereby reduces the dimensionality of our model the most, as our preferred model. </span>"
   ]
  },
  {
   "cell_type": "markdown",
   "metadata": {},
   "source": [
    "c) For your best model: Investigate the fitted coefficients. Which predictors are relevant for inferring the response variable?"
   ]
  },
  {
   "cell_type": "code",
   "execution_count": 131,
   "metadata": {
    "scrolled": true
   },
   "outputs": [
    {
     "data": {
      "text/plain": [
       "9842"
      ]
     },
     "execution_count": 131,
     "metadata": {},
     "output_type": "execute_result"
    }
   ],
   "source": [
    "#First, fit model again for alpha = 1\n",
    "model3.set_params(C=1.0)\n",
    "model3.fit(train_data, train_labels)\n",
    "\n",
    "len(model3.coef_[0][model3.coef_[0]!=0.0])"
   ]
  },
  {
   "cell_type": "markdown",
   "metadata": {},
   "source": [
    "<span style=\"color:blue\"> Almost all predictors remain relevant with this Lasso regularised logistic regression model, only 168 have been removed. </span>"
   ]
  },
  {
   "cell_type": "code",
   "execution_count": null,
   "metadata": {
    "collapsed": true
   },
   "outputs": [],
   "source": []
  }
 ],
 "metadata": {
  "kernelspec": {
   "display_name": "Python 3",
   "language": "python",
   "name": "python3"
  },
  "language_info": {
   "codemirror_mode": {
    "name": "ipython",
    "version": 3
   },
   "file_extension": ".py",
   "mimetype": "text/x-python",
   "name": "python",
   "nbconvert_exporter": "python",
   "pygments_lexer": "ipython3",
   "version": "3.6.4"
  }
 },
 "nbformat": 4,
 "nbformat_minor": 2
}
