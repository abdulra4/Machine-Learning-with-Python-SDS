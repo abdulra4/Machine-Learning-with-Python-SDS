{
 "cells": [
  {
   "cell_type": "markdown",
   "metadata": {},
   "source": [
    "# Intensive Module in Machine Learning\n",
    "# Problem set 8: Modern deep learning"
   ]
  },
  {
   "cell_type": "markdown",
   "metadata": {},
   "source": [
    "If you are looking at the pdf/html version of this document, start by running the command `jupyter notebook` to launch an interactive notebook and then navigate to the correct folder and open this file `problem-set-8.ipynb`. Import your default packages for manipulating data and plotting:"
   ]
  },
  {
   "cell_type": "code",
   "execution_count": 1,
   "metadata": {},
   "outputs": [],
   "source": [
    "import numpy as np\n",
    "import pandas as pd\n",
    "from matplotlib import pyplot as plt\n",
    "%matplotlib inline "
   ]
  },
  {
   "cell_type": "markdown",
   "metadata": {},
   "source": [
    "## Image classification for MNIST"
   ]
  },
  {
   "cell_type": "raw",
   "metadata": {},
   "source": [
    "This problem set prepares you for the final assignment."
   ]
  },
  {
   "cell_type": "markdown",
   "metadata": {},
   "source": [
    "You you tensorflow wrapper functions to download the data:"
   ]
  },
  {
   "cell_type": "code",
   "execution_count": 2,
   "metadata": {},
   "outputs": [
    {
     "name": "stderr",
     "output_type": "stream",
     "text": [
      "/Users/ablaas/anaconda3/envs/tensorflow/lib/python3.6/importlib/_bootstrap.py:219: RuntimeWarning: compiletime version 3.5 of module 'tensorflow.python.framework.fast_tensor_util' does not match runtime version 3.6\n",
      "  return f(*args, **kwds)\n",
      "/Users/ablaas/anaconda3/envs/tensorflow/lib/python3.6/site-packages/h5py/__init__.py:36: FutureWarning: Conversion of the second argument of issubdtype from `float` to `np.floating` is deprecated. In future, it will be treated as `np.float64 == np.dtype(float).type`.\n",
      "  from ._conv import register_converters as _register_converters\n",
      "Using TensorFlow backend.\n"
     ]
    }
   ],
   "source": [
    "import tensorflow as tf\n",
    "import keras\n",
    "from keras.models import Sequential\n",
    "from keras.layers import Dense, Dropout, Activation\n",
    "from keras.optimizers import SGD\n",
    "mnist = tf.keras.datasets.mnist\n",
    "\n",
    "(x_train, y_train),(x_test, y_test) = mnist.load_data()\n",
    "x_train, x_test = x_train / 255.0, x_test / 255.0"
   ]
  },
  {
   "cell_type": "markdown",
   "metadata": {},
   "source": [
    "The last step rescales the data."
   ]
  },
  {
   "cell_type": "markdown",
   "metadata": {},
   "source": [
    "## 1 Getting familiar with the data"
   ]
  },
  {
   "cell_type": "markdown",
   "metadata": {},
   "source": [
    "Load the data as above. \n",
    "\n",
    "a) What does the rescaling do? \n",
    "\n",
    "b) Can you plot some of the images before and after rescaling. \n",
    "\n",
    "c) What are the dimensions of the tensors X and y? Can you reshape the image data X to be either in the format N x 28 x 28 or N x 784, where N is the number of images?\n",
    "\n",
    "d) Discuss what is meant by one-hot encoding. Can you respape the label data y to be either in the format N x 1 (using digits 0,...,9) or N X 10 (using one-hot encoding)?"
   ]
  },
  {
   "cell_type": "markdown",
   "metadata": {},
   "source": [
    "<span style=\"color:blue\"> The rescaling (dividing by 255) forces values to be between 0 and 1 instead of 0 and 255.</span >"
   ]
  },
  {
   "cell_type": "code",
   "execution_count": 3,
   "metadata": {},
   "outputs": [
    {
     "data": {
      "image/png": "[encoded data removed]",
      "text/plain": [
       "<matplotlib.figure.Figure at 0x1821b53ac8>"
      ]
     },
     "metadata": {},
     "output_type": "display_data"
    }
   ],
   "source": [
    "example1_new = x_train[1,:,:]\n",
    "example1_old = 255*x_train[1,:,:]\n",
    "image_array1_new = np.asarray(example1_new, dtype=np.float32).reshape((28, 28))\n",
    "image_array1_old = np.asarray(example1_old, dtype=np.float32).reshape((28, 28))\n",
    "example2_new = x_train[17,:,:]\n",
    "example2_old = x_train[17,:,:]\n",
    "image_array2_new = np.asarray(example2_new, dtype=np.float32).reshape((28, 28))\n",
    "image_array2_old = np.asarray(example2_old, dtype=np.float32).reshape((28, 28))\n",
    "\n",
    "plt.subplot(1, 4, 1)\n",
    "plt.imshow(image_array1_old)#, cmap='gray')\n",
    "plt.title('Before')\n",
    "\n",
    "plt.subplot(1, 4, 2)\n",
    "plt.imshow(image_array1_new)#, cmap='gray')\n",
    "plt.title('After')\n",
    "\n",
    "plt.subplot(1, 4, 3)\n",
    "plt.imshow(image_array2_old)#, cmap='gray')\n",
    "plt.title('Before')\n",
    "\n",
    "plt.subplot(1, 4, 4)\n",
    "plt.imshow(image_array2_new)#, cmap='gray')\n",
    "plt.title('After')\n",
    "\n",
    "plt.show()"
   ]
  },
  {
   "cell_type": "code",
   "execution_count": 7,
   "metadata": {},
   "outputs": [
    {
     "name": "stdout",
     "output_type": "stream",
     "text": [
      "(60000, 28, 28)\n",
      "(10000, 28, 28)\n"
     ]
    }
   ],
   "source": [
    "print(np.shape(x_train))\n",
    "print(np.shape(x_test))"
   ]
  },
  {
   "cell_type": "markdown",
   "metadata": {},
   "source": [
    "<span style=\"color:blue\"> As we can see, we have 60000 samples which are each of dimensionality (28,28), i.e. in pixel represantation. We can transform it to Nx784 using the reshape command</span >"
   ]
  },
  {
   "cell_type": "code",
   "execution_count": 4,
   "metadata": {},
   "outputs": [],
   "source": [
    "x_train2 = x_train.reshape(60000,784)\n",
    "x_test2 = x_test.reshape(10000,784)"
   ]
  },
  {
   "cell_type": "code",
   "execution_count": 5,
   "metadata": {},
   "outputs": [
    {
     "name": "stdout",
     "output_type": "stream",
     "text": [
      "[[1. 0. 0. 0. 0. 0. 0. 0. 0. 0.]\n",
      " [0. 0. 0. 0. 1. 0. 0. 0. 0. 0.]\n",
      " [0. 1. 0. 0. 0. 0. 0. 0. 0. 0.]\n",
      " [0. 0. 0. 0. 0. 0. 0. 0. 0. 1.]\n",
      " [0. 0. 1. 0. 0. 0. 0. 0. 0. 0.]\n",
      " [0. 1. 0. 0. 0. 0. 0. 0. 0. 0.]\n",
      " [0. 0. 0. 1. 0. 0. 0. 0. 0. 0.]\n",
      " [0. 1. 0. 0. 0. 0. 0. 0. 0. 0.]\n",
      " [0. 0. 0. 0. 1. 0. 0. 0. 0. 0.]]\n"
     ]
    }
   ],
   "source": [
    "#Let's create the one-hot-encoded versions of our labels\n",
    "y_train2 = keras.utils.to_categorical(y_train, num_classes=10)\n",
    "y_test2 = keras.utils.to_categorical(y_test, num_classes=10)\n",
    "\n",
    "print(y_train2[1:10,:])"
   ]
  },
  {
   "cell_type": "markdown",
   "metadata": {},
   "source": [
    "## 2 Feed forward neural network on MNIST"
   ]
  },
  {
   "cell_type": "markdown",
   "metadata": {},
   "source": [
    "a) Build a one-hidden layer neural network using Keras with 512 hidden units.\n",
    "\n",
    "b) Use a soft-max lawyer for the final layer and ReLUs for all other activation functions.\n",
    "\n",
    "c) How do you define the loss function?\n",
    "\n",
    "d) Train the neural network using batch gradient descent (with batch size 128) for a number of epochs. \n",
    "\n",
    "e) Produce plots showing the training and validation/test error (misclassification rate) as a function of epochs (training time).\n",
    "\n",
    "f) Try to find a good value for the learning rate and report the performance of your best model."
   ]
  },
  {
   "cell_type": "code",
   "execution_count": 10,
   "metadata": {},
   "outputs": [
    {
     "name": "stdout",
     "output_type": "stream",
     "text": [
      "_________________________________________________________________\n",
      "Layer (type)                 Output Shape              Param #   \n",
      "=================================================================\n",
      "dense_1 (Dense)              (None, 512)               401920    \n",
      "_________________________________________________________________\n",
      "dense_2 (Dense)              (None, 10)                5130      \n",
      "=================================================================\n",
      "Total params: 407,050\n",
      "Trainable params: 407,050\n",
      "Non-trainable params: 0\n",
      "_________________________________________________________________\n"
     ]
    }
   ],
   "source": [
    "model = Sequential()\n",
    "model.add(Dense(units=512, activation='relu',input_dim=784))\n",
    "model.add(Dense(units=10, activation='softmax'))\n",
    "model.compile(loss='categorical_crossentropy', optimizer='sgd',metrics=[\"accuracy\"])\n",
    "# summarize the model\n",
    "model.summary()"
   ]
  },
  {
   "cell_type": "code",
   "execution_count": 11,
   "metadata": {},
   "outputs": [],
   "source": [
    "Early_Stop = keras.callbacks.EarlyStopping(monitor='val_loss', min_delta=0, patience=10, verbose=1, mode='auto')\n",
    "history = model.fit(x_train2, y_train2, epochs=100, batch_size=128, verbose=0, validation_split = 0.2, callbacks=[Early_Stop])\n",
    "tacc,vacc = history.history['acc'], history.history['val_acc'] "
   ]
  },
  {
   "cell_type": "code",
   "execution_count": 12,
   "metadata": {},
   "outputs": [
    {
     "data": {
      "image/png": "[encoded data removed]",
      "text/plain": [
       "<matplotlib.figure.Figure at 0x182524a0f0>"
      ]
     },
     "metadata": {},
     "output_type": "display_data"
    }
   ],
   "source": [
    "plt.plot(1.0-np.expand_dims(tacc,axis=1))\n",
    "plt.plot(1.0-np.expand_dims(vacc,axis=1))\n",
    "plt.title('model misclassification rate')\n",
    "plt.ylabel('misclassification rate')\n",
    "plt.xlabel('epoch')\n",
    "plt.legend(['train', 'test'], loc='upper left')\n",
    "plt.show()"
   ]
  },
  {
   "cell_type": "code",
   "execution_count": 14,
   "metadata": {},
   "outputs": [
    {
     "name": "stdout",
     "output_type": "stream",
     "text": [
      "0.001\n",
      "0.005\n",
      "0.01\n",
      "0.05\n",
      "0.1\n",
      "Epoch 00012: early stopping\n",
      "0.5\n"
     ]
    }
   ],
   "source": [
    "learning_rates = [0.001,0.005,0.01,0.05,0.1,0.5]\n",
    "scores = np.zeros(len(learning_rates))\n",
    "\n",
    "for ii in range(0,len(learning_rates)):\n",
    "    model = Sequential()\n",
    "    model.add(Dense(units=512, activation='relu',input_dim=784))\n",
    "    model.add(Dense(units=10, activation='softmax'))\n",
    "    sgd = SGD(lr=learning_rates[ii], momentum=0.9, nesterov=True)\n",
    "    model.compile(loss='categorical_crossentropy', optimizer=sgd,metrics=[\"accuracy\"])\n",
    "    history = model.fit(x_train2, y_train2, epochs=20, batch_size=128, verbose=0, validation_split = 0.2, callbacks=[Early_Stop])\n",
    "    valid_acc = history.history['val_acc'][-1]\n",
    "    scores[ii] = valid_acc\n",
    "    print(learning_rates[ii])\n"
   ]
  },
  {
   "cell_type": "markdown",
   "metadata": {},
   "source": [
    "<span style=\"color:blue\"> Let's inspect the best learning rate and the model performance of the corresponding model on test data </span >"
   ]
  },
  {
   "cell_type": "code",
   "execution_count": 20,
   "metadata": {},
   "outputs": [
    {
     "name": "stdout",
     "output_type": "stream",
     "text": [
      "0.1\n"
     ]
    }
   ],
   "source": [
    "print(learning_rates[np.argmax(scores)])"
   ]
  },
  {
   "cell_type": "code",
   "execution_count": 21,
   "metadata": {},
   "outputs": [
    {
     "name": "stdout",
     "output_type": "stream",
     "text": [
      "Epoch 00019: early stopping\n",
      "0.9829166665077209\n"
     ]
    }
   ],
   "source": [
    "model = Sequential()\n",
    "model.add(Dense(units=512, activation='relu',input_dim=784))\n",
    "model.add(Dense(units=10, activation='softmax'))\n",
    "sgd = SGD(lr=learning_rates[np.argmax(scores)], momentum=0.9, nesterov=True)\n",
    "model.compile(loss='categorical_crossentropy', optimizer=sgd,metrics=[\"accuracy\"])\n",
    "history = model.fit(x_train2, y_train2, epochs=20, batch_size=128, verbose=0, validation_split = 0.2, callbacks=[Early_Stop])\n",
    "print(history.history['val_acc'][-1])"
   ]
  },
  {
   "cell_type": "code",
   "execution_count": 32,
   "metadata": {},
   "outputs": [
    {
     "name": "stdout",
     "output_type": "stream",
     "text": [
      "Test set accuracy: 0.9824\n"
     ]
    }
   ],
   "source": [
    "yprobas = model.predict(x_test2, batch_size=128)\n",
    "ypred = yprobas.argmax(axis=-1)\n",
    "test_acc = np.mean(np.equal(ypred, y_test))\n",
    "print('Test set accuracy:',test_acc)"
   ]
  },
  {
   "cell_type": "markdown",
   "metadata": {},
   "source": [
    "## 3 Modern techniques for regularisation and optimisation"
   ]
  },
  {
   "cell_type": "markdown",
   "metadata": {},
   "source": [
    "a) Return to the model in the previous exercise and add a dropout layer for regularisation. How do the results compare? Look at the plots showing training/test error as a function of epochs.\n",
    "\n",
    "b) Investigate the effect of dropout on some other architectures such as with one hidden layer of size 1024 or with two hidden layers of size 1024.\n",
    "\n",
    "c) Now try the above with a different optimiser, the most popular choice being Adam. Look again at the plots showing training/test error as a function of epochs."
   ]
  },
  {
   "cell_type": "code",
   "execution_count": 6,
   "metadata": {},
   "outputs": [
    {
     "name": "stdout",
     "output_type": "stream",
     "text": [
      "_________________________________________________________________\n",
      "Layer (type)                 Output Shape              Param #   \n",
      "=================================================================\n",
      "dense_1 (Dense)              (None, 512)               401920    \n",
      "_________________________________________________________________\n",
      "dropout_1 (Dropout)          (None, 512)               0         \n",
      "_________________________________________________________________\n",
      "dense_2 (Dense)              (None, 10)                5130      \n",
      "=================================================================\n",
      "Total params: 407,050\n",
      "Trainable params: 407,050\n",
      "Non-trainable params: 0\n",
      "_________________________________________________________________\n"
     ]
    }
   ],
   "source": [
    "model2 = Sequential()\n",
    "model2.add(Dense(units=512, activation='relu',input_dim=784))\n",
    "model2.add(Dropout(0.2))\n",
    "model2.add(Dense(units=10, activation='softmax'))\n",
    "model2.compile(loss='categorical_crossentropy', optimizer='sgd',metrics=[\"accuracy\"])\n",
    "# summarize the model\n",
    "model2.summary()"
   ]
  },
  {
   "cell_type": "code",
   "execution_count": 7,
   "metadata": {},
   "outputs": [],
   "source": [
    "Early_Stop = keras.callbacks.EarlyStopping(monitor='val_loss', min_delta=0, patience=10, verbose=1, mode='auto')\n",
    "history = model2.fit(x_train2, y_train2, epochs=100, batch_size=128, verbose=0, validation_split = 0.2, callbacks=[Early_Stop])\n",
    "tacc,vacc = history.history['acc'], history.history['val_acc'] "
   ]
  },
  {
   "cell_type": "code",
   "execution_count": 8,
   "metadata": {},
   "outputs": [
    {
     "data": {
      "image/png": "[encoded data removed]",
      "text/plain": [
       "<matplotlib.figure.Figure at 0x1844c89d30>"
      ]
     },
     "metadata": {},
     "output_type": "display_data"
    }
   ],
   "source": [
    "plt.plot(1.0-np.expand_dims(tacc,axis=1))\n",
    "plt.plot(1.0-np.expand_dims(vacc,axis=1))\n",
    "plt.title('model misclassification rate')\n",
    "plt.ylabel('misclassification rate')\n",
    "plt.xlabel('epoch')\n",
    "plt.legend(['train', 'test'], loc='upper left')\n",
    "plt.show()"
   ]
  },
  {
   "cell_type": "markdown",
   "metadata": {},
   "source": [
    "<span style=\"color:blue\"> In order to do exercises 3 b) and c), replace and add the relevant bits of code above (all commented out below so that no errors appear when running through notebook), i.e. for b) instead of </span >"
   ]
  },
  {
   "cell_type": "code",
   "execution_count": null,
   "metadata": {},
   "outputs": [],
   "source": [
    "# model2.add(Dense(units=512, activation='relu',input_dim=784))"
   ]
  },
  {
   "cell_type": "markdown",
   "metadata": {},
   "source": [
    "<span style=\"color:blue\"> use </span >"
   ]
  },
  {
   "cell_type": "code",
   "execution_count": 15,
   "metadata": {},
   "outputs": [],
   "source": [
    "# model2.add(Dense(units=1024, activation='relu',input_dim=784))"
   ]
  },
  {
   "cell_type": "markdown",
   "metadata": {},
   "source": [
    "<span style=\"color:blue\"> and later add </span >"
   ]
  },
  {
   "cell_type": "code",
   "execution_count": null,
   "metadata": {},
   "outputs": [],
   "source": [
    "# model2.add(Dense(units=1024, activation='relu'))\n",
    "# model2.add(Dropout(0.2))"
   ]
  },
  {
   "cell_type": "markdown",
   "metadata": {},
   "source": [
    "<span style=\"color:blue\"> immediately after the first dropout layer. For c) simply change </span >"
   ]
  },
  {
   "cell_type": "code",
   "execution_count": null,
   "metadata": {},
   "outputs": [],
   "source": [
    "# model2.compile(loss='categorical_crossentropy', optimizer='sgd',metrics=[\"accuracy\"])"
   ]
  },
  {
   "cell_type": "markdown",
   "metadata": {},
   "source": [
    "<span style=\"color:blue\"> to </span >"
   ]
  },
  {
   "cell_type": "code",
   "execution_count": null,
   "metadata": {},
   "outputs": [],
   "source": [
    "# model2.compile(loss='categorical_crossentropy', optimizer='adam',metrics=[\"accuracy\"])"
   ]
  },
  {
   "cell_type": "markdown",
   "metadata": {},
   "source": [
    "## 4 Convolutional Neural Networks (CNN)"
   ]
  },
  {
   "cell_type": "markdown",
   "metadata": {},
   "source": [
    "This is a more advances exercise."
   ]
  },
  {
   "cell_type": "markdown",
   "metadata": {},
   "source": [
    "a) Use Keras to build a simple CNN using a convolutional layer followed by a fully connected one.\n",
    "\n",
    "b) What are the new hyperparameters? Comment on your choices.\n",
    "\n",
    "c) What does a max pooling layer do? Add a max pooling layer after the convolutional layer. \n",
    "\n",
    "d) Comment on your results. Did adding the max pooling layer make a big difference. If not, comment on when you would expect it to make a larger difference."
   ]
  },
  {
   "cell_type": "code",
   "execution_count": 10,
   "metadata": {},
   "outputs": [
    {
     "name": "stdout",
     "output_type": "stream",
     "text": [
      "_________________________________________________________________\n",
      "Layer (type)                 Output Shape              Param #   \n",
      "=================================================================\n",
      "conv2d_1 (Conv2D)            (None, 28, 28, 32)        320       \n",
      "_________________________________________________________________\n",
      "max_pooling2d_1 (MaxPooling2 (None, 14, 14, 32)        0         \n",
      "_________________________________________________________________\n",
      "flatten_1 (Flatten)          (None, 6272)              0         \n",
      "_________________________________________________________________\n",
      "dense_3 (Dense)              (None, 128)               802944    \n",
      "_________________________________________________________________\n",
      "dropout_2 (Dropout)          (None, 128)               0         \n",
      "_________________________________________________________________\n",
      "dense_4 (Dense)              (None, 10)                1290      \n",
      "=================================================================\n",
      "Total params: 804,554\n",
      "Trainable params: 804,554\n",
      "Non-trainable params: 0\n",
      "_________________________________________________________________\n"
     ]
    }
   ],
   "source": [
    "from keras.layers import Flatten\n",
    "from keras.layers.convolutional import Conv2D, MaxPooling2D\n",
    "\n",
    "\n",
    "#First, make sure train data is in the right shape for convolutional layers\n",
    "x_train3 = x_train2.reshape(x_train2.shape[0], 28, 28 , 1).astype('float32')\n",
    "x_test3 = x_test2.reshape(x_test2.shape[0], 28, 28 , 1).astype('float32')\n",
    "\n",
    "model3 = Sequential()\n",
    "model3.add(Conv2D(32, kernel_size=(3, 3), padding=\"same\", input_shape=(28, 28, 1), activation = 'relu'))\n",
    "model3.add(MaxPooling2D(pool_size=(2, 2), strides=(2, 2)))\n",
    "model3.add(Flatten())\n",
    "model3.add(Dense(units=128, activation='relu'  ))\n",
    "model3.add(Dropout(0.2))\n",
    "model3.add(Dense(units=10, activation='softmax'))\n",
    "model3.compile(loss='categorical_crossentropy', optimizer='adam',metrics=[\"accuracy\"])\n",
    "# summarize the model\n",
    "model3.summary()"
   ]
  },
  {
   "cell_type": "markdown",
   "metadata": {},
   "source": [
    "<span style=\"color:blue\"> Max pooling helps to make the representation approximately invariant to small translations of the input. </span>"
   ]
  },
  {
   "cell_type": "code",
   "execution_count": 12,
   "metadata": {},
   "outputs": [
    {
     "name": "stdout",
     "output_type": "stream",
     "text": [
      "Epoch 00018: early stopping\n"
     ]
    }
   ],
   "source": [
    "Early_Stop = keras.callbacks.EarlyStopping(monitor='val_loss', min_delta=0, patience=10, verbose=1, mode='auto')\n",
    "history = model3.fit(x_train3, y_train2, epochs=100, batch_size=128, verbose=0, validation_split = 0.2, callbacks=[Early_Stop])\n",
    "tacc,vacc = history.history['acc'], history.history['val_acc']"
   ]
  },
  {
   "cell_type": "code",
   "execution_count": 13,
   "metadata": {},
   "outputs": [
    {
     "data": {
      "image/png": "[encoded data removed]",
      "text/plain": [
       "<matplotlib.figure.Figure at 0x184b80d2e8>"
      ]
     },
     "metadata": {},
     "output_type": "display_data"
    }
   ],
   "source": [
    "plt.plot(1.0-np.expand_dims(tacc,axis=1))\n",
    "plt.plot(1.0-np.expand_dims(vacc,axis=1))\n",
    "plt.title('model misclassification rate')\n",
    "plt.ylabel('misclassification rate')\n",
    "plt.xlabel('epoch')\n",
    "plt.legend(['train', 'test'], loc='upper left')\n",
    "plt.show()"
   ]
  },
  {
   "cell_type": "code",
   "execution_count": 14,
   "metadata": {},
   "outputs": [
    {
     "name": "stdout",
     "output_type": "stream",
     "text": [
      "Test set accuracy: 0.9879\n"
     ]
    }
   ],
   "source": [
    "yprobas = model3.predict(x_test3, batch_size=128)\n",
    "ypred = yprobas.argmax(axis=-1)\n",
    "test_acc = np.mean(np.equal(ypred, y_test))\n",
    "print('Test set accuracy:',test_acc)"
   ]
  },
  {
   "cell_type": "markdown",
   "metadata": {},
   "source": [
    "<span style=\"color:blue\"> The difference is not as big as one could think, but also the accuracy of a network without convolutions was already above 98%. </span>"
   ]
  },
  {
   "cell_type": "code",
   "execution_count": null,
   "metadata": {},
   "outputs": [],
   "source": []
  }
 ],
 "metadata": {
  "kernelspec": {
   "display_name": "Python 3",
   "language": "python",
   "name": "python3"
  },
  "language_info": {
   "codemirror_mode": {
    "name": "ipython",
    "version": 3
   },
   "file_extension": ".py",
   "mimetype": "text/x-python",
   "name": "python",
   "nbconvert_exporter": "python",
   "pygments_lexer": "ipython3",
   "version": "3.6.3"
  }
 },
 "nbformat": 4,
 "nbformat_minor": 2
}
