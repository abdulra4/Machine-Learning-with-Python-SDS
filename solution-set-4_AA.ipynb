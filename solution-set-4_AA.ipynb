{
 "cells": [
  {
   "cell_type": "markdown",
   "metadata": {},
   "source": [
    "# Intensive Module in Machine Learning\n",
    "# Problem set 4: Unsupervised Learning"
   ]
  },
  {
   "cell_type": "markdown",
   "metadata": {},
   "source": [
    "If you are looking at the pdf/html version of this document, start by running the command `jupyter notebook` to launch an interactive notebook and then navigate to the correct folder and open this file `problem-set-4.ipynb`. Import your default packages for manipulating data and plotting:"
   ]
  },
  {
   "cell_type": "code",
   "execution_count": 1,
   "metadata": {
    "collapsed": true
   },
   "outputs": [],
   "source": [
    "import numpy as np\n",
    "import pandas as pd\n",
    "from matplotlib import pyplot as plt\n",
    "%matplotlib inline "
   ]
  },
  {
   "cell_type": "markdown",
   "metadata": {},
   "source": [
    "## 1. Principle component analysis"
   ]
  },
  {
   "cell_type": "markdown",
   "metadata": {},
   "source": [
    "## 1.1 Toy example"
   ]
  },
  {
   "cell_type": "markdown",
   "metadata": {},
   "source": [
    "We generate some simple two-dimensional data with a defined correlation structure:"
   ]
  },
  {
   "cell_type": "code",
   "execution_count": 2,
   "metadata": {
    "collapsed": true
   },
   "outputs": [],
   "source": [
    "x = np.random.normal(size=20)\n",
    "y = np.random.normal(size=20)\n",
    "y += 2*x"
   ]
  },
  {
   "cell_type": "markdown",
   "metadata": {},
   "source": [
    "a) Standardise the data and then perform a principle compontent analysis of the data."
   ]
  },
  {
   "cell_type": "code",
   "execution_count": 36,
   "metadata": {},
   "outputs": [
    {
     "data": {
      "text/plain": [
       "PCA(copy=True, iterated_power='auto', n_components=2, random_state=None,\n",
       "  svd_solver='auto', tol=0.0, whiten=False)"
      ]
     },
     "execution_count": 36,
     "metadata": {},
     "output_type": "execute_result"
    }
   ],
   "source": [
    "from sklearn.decomposition import PCA\n",
    "\n",
    "X = np.concatenate(([x],[y]),axis=0)\n",
    "\n",
    "#Let's recycle the standardise function we have written for problem sheet 1\n",
    "def standardise(X):\n",
    "    standardised_data = X.copy()\n",
    "    for ii in range(0,np.shape(X)[1]):\n",
    "        mean = X[:,ii].mean()\n",
    "        std = X[:,ii].std()\n",
    "        standardised_data[:,ii] = (X[:,ii] - mean) / std\n",
    "    return standardised_data\n",
    "\n",
    "X_standard = standardise(np.transpose(X))\n",
    "\n",
    "pca = PCA(n_components=2)\n",
    "pca.fit(X_standard)"
   ]
  },
  {
   "cell_type": "markdown",
   "metadata": {},
   "source": [
    "b) Plot the data points in the original (x,y) plane and then add the axis of the principle components to the plot."
   ]
  },
  {
   "cell_type": "code",
   "execution_count": 71,
   "metadata": {},
   "outputs": [
    {
     "data": {
      "image/png": "[encoded data removed]",
      "text/plain": [
       "<matplotlib.figure.Figure at 0x1a1229ce10>"
      ]
     },
     "metadata": {},
     "output_type": "display_data"
    }
   ],
   "source": [
    "def draw_2D_principle_components(value, vector):\n",
    "    slope = vector[1]/vector[0]\n",
    "    x_points = np.arange(0.0,np.sqrt(value),0.001)\n",
    "    y_points = x_points * slope\n",
    "    return x_points, y_points\n",
    "\n",
    "# plot data\n",
    "fig = plt.figure(figsize=(8,8))\n",
    "plt.scatter(x,y)\n",
    "x1,y1 = draw_2D_principle_components(pca.explained_variance_[1], pca.components_[1])\n",
    "x2,y2 = draw_2D_principle_components(pca.explained_variance_[0], pca.components_[0])\n",
    "plt.plot(x1,y1)\n",
    "plt.plot(x2,y2)\n",
    "plt.xlim(-2,2)\n",
    "plt.ylim(-2,2)\n",
    "plt.show()\n"
   ]
  },
  {
   "cell_type": "markdown",
   "metadata": {},
   "source": [
    "## 1.2 PCA on the NCI60 data "
   ]
  },
  {
   "cell_type": "markdown",
   "metadata": {},
   "source": [
    "The NCI60 cancer cell line microarray data. It has n = 64 observations and p = 6830 predictors. "
   ]
  },
  {
   "cell_type": "markdown",
   "metadata": {},
   "source": [
    "a) Load and inspect the data."
   ]
  },
  {
   "cell_type": "code",
   "execution_count": 73,
   "metadata": {},
   "outputs": [
    {
     "data": {
      "text/html": [
       "<div>\n",
       "<style>\n",
       "    .dataframe thead tr:only-child th {\n",
       "        text-align: right;\n",
       "    }\n",
       "\n",
       "    .dataframe thead th {\n",
       "        text-align: left;\n",
       "    }\n",
       "\n",
       "    .dataframe tbody tr th {\n",
       "        vertical-align: top;\n",
       "    }\n",
       "</style>\n",
       "<table border=\"1\" class=\"dataframe\">\n",
       "  <thead>\n",
       "    <tr style=\"text-align: right;\">\n",
       "      <th></th>\n",
       "      <th>1</th>\n",
       "      <th>2</th>\n",
       "      <th>3</th>\n",
       "      <th>4</th>\n",
       "      <th>5</th>\n",
       "      <th>6</th>\n",
       "      <th>7</th>\n",
       "      <th>8</th>\n",
       "      <th>9</th>\n",
       "      <th>10</th>\n",
       "      <th>...</th>\n",
       "      <th>6821</th>\n",
       "      <th>6822</th>\n",
       "      <th>6823</th>\n",
       "      <th>6824</th>\n",
       "      <th>6825</th>\n",
       "      <th>6826</th>\n",
       "      <th>6827</th>\n",
       "      <th>6828</th>\n",
       "      <th>6829</th>\n",
       "      <th>6830</th>\n",
       "    </tr>\n",
       "  </thead>\n",
       "  <tbody>\n",
       "    <tr>\n",
       "      <th>V1</th>\n",
       "      <td>0.300000</td>\n",
       "      <td>1.180000</td>\n",
       "      <td>0.550000</td>\n",
       "      <td>1.140000</td>\n",
       "      <td>-0.265000</td>\n",
       "      <td>-7.000000e-02</td>\n",
       "      <td>0.350000</td>\n",
       "      <td>-0.315000</td>\n",
       "      <td>-0.450000</td>\n",
       "      <td>-0.654981</td>\n",
       "      <td>...</td>\n",
       "      <td>-0.990019</td>\n",
       "      <td>0.000000</td>\n",
       "      <td>0.030000</td>\n",
       "      <td>-0.175000</td>\n",
       "      <td>0.629981</td>\n",
       "      <td>-0.030000</td>\n",
       "      <td>0.000000</td>\n",
       "      <td>0.280000</td>\n",
       "      <td>-0.340000</td>\n",
       "      <td>-1.930000</td>\n",
       "    </tr>\n",
       "    <tr>\n",
       "      <th>V2</th>\n",
       "      <td>0.679961</td>\n",
       "      <td>1.289961</td>\n",
       "      <td>0.169961</td>\n",
       "      <td>0.379961</td>\n",
       "      <td>0.464961</td>\n",
       "      <td>5.799610e-01</td>\n",
       "      <td>0.699961</td>\n",
       "      <td>0.724961</td>\n",
       "      <td>-0.040039</td>\n",
       "      <td>-0.285020</td>\n",
       "      <td>...</td>\n",
       "      <td>-0.270058</td>\n",
       "      <td>-0.300039</td>\n",
       "      <td>-0.250039</td>\n",
       "      <td>-0.535039</td>\n",
       "      <td>0.109941</td>\n",
       "      <td>-0.860039</td>\n",
       "      <td>-1.250049</td>\n",
       "      <td>-0.770039</td>\n",
       "      <td>-0.390039</td>\n",
       "      <td>-2.000039</td>\n",
       "    </tr>\n",
       "    <tr>\n",
       "      <th>V3</th>\n",
       "      <td>0.940000</td>\n",
       "      <td>-0.040000</td>\n",
       "      <td>-0.170000</td>\n",
       "      <td>-0.040000</td>\n",
       "      <td>-0.605000</td>\n",
       "      <td>0.000000e+00</td>\n",
       "      <td>0.090000</td>\n",
       "      <td>0.645000</td>\n",
       "      <td>0.430000</td>\n",
       "      <td>0.475019</td>\n",
       "      <td>...</td>\n",
       "      <td>0.319981</td>\n",
       "      <td>0.120000</td>\n",
       "      <td>-0.740000</td>\n",
       "      <td>-0.595000</td>\n",
       "      <td>-0.270020</td>\n",
       "      <td>-0.150000</td>\n",
       "      <td>0.000000</td>\n",
       "      <td>-0.120000</td>\n",
       "      <td>-0.410000</td>\n",
       "      <td>0.000000</td>\n",
       "    </tr>\n",
       "    <tr>\n",
       "      <th>V4</th>\n",
       "      <td>0.280000</td>\n",
       "      <td>-0.310000</td>\n",
       "      <td>0.680000</td>\n",
       "      <td>-0.810000</td>\n",
       "      <td>0.625000</td>\n",
       "      <td>-1.387779e-17</td>\n",
       "      <td>0.170000</td>\n",
       "      <td>0.245000</td>\n",
       "      <td>0.020000</td>\n",
       "      <td>0.095019</td>\n",
       "      <td>...</td>\n",
       "      <td>-1.240020</td>\n",
       "      <td>-0.110000</td>\n",
       "      <td>-0.160000</td>\n",
       "      <td>0.095000</td>\n",
       "      <td>-0.350020</td>\n",
       "      <td>-0.300000</td>\n",
       "      <td>-1.150010</td>\n",
       "      <td>1.090000</td>\n",
       "      <td>-0.260000</td>\n",
       "      <td>-1.100000</td>\n",
       "    </tr>\n",
       "    <tr>\n",
       "      <th>V5</th>\n",
       "      <td>0.485000</td>\n",
       "      <td>-0.465000</td>\n",
       "      <td>0.395000</td>\n",
       "      <td>0.905000</td>\n",
       "      <td>0.200000</td>\n",
       "      <td>-5.000000e-03</td>\n",
       "      <td>0.085000</td>\n",
       "      <td>0.110000</td>\n",
       "      <td>0.235000</td>\n",
       "      <td>1.490019</td>\n",
       "      <td>...</td>\n",
       "      <td>0.554980</td>\n",
       "      <td>-0.775000</td>\n",
       "      <td>-0.515000</td>\n",
       "      <td>-0.320000</td>\n",
       "      <td>0.634980</td>\n",
       "      <td>0.605000</td>\n",
       "      <td>0.000000</td>\n",
       "      <td>0.745000</td>\n",
       "      <td>0.425000</td>\n",
       "      <td>0.145000</td>\n",
       "    </tr>\n",
       "  </tbody>\n",
       "</table>\n",
       "<p>5 rows × 6830 columns</p>\n",
       "</div>"
      ],
      "text/plain": [
       "           1         2         3         4         5             6         7  \\\n",
       "V1  0.300000  1.180000  0.550000  1.140000 -0.265000 -7.000000e-02  0.350000   \n",
       "V2  0.679961  1.289961  0.169961  0.379961  0.464961  5.799610e-01  0.699961   \n",
       "V3  0.940000 -0.040000 -0.170000 -0.040000 -0.605000  0.000000e+00  0.090000   \n",
       "V4  0.280000 -0.310000  0.680000 -0.810000  0.625000 -1.387779e-17  0.170000   \n",
       "V5  0.485000 -0.465000  0.395000  0.905000  0.200000 -5.000000e-03  0.085000   \n",
       "\n",
       "           8         9        10    ...         6821      6822      6823  \\\n",
       "V1 -0.315000 -0.450000 -0.654981    ...    -0.990019  0.000000  0.030000   \n",
       "V2  0.724961 -0.040039 -0.285020    ...    -0.270058 -0.300039 -0.250039   \n",
       "V3  0.645000  0.430000  0.475019    ...     0.319981  0.120000 -0.740000   \n",
       "V4  0.245000  0.020000  0.095019    ...    -1.240020 -0.110000 -0.160000   \n",
       "V5  0.110000  0.235000  1.490019    ...     0.554980 -0.775000 -0.515000   \n",
       "\n",
       "        6824      6825      6826      6827      6828      6829      6830  \n",
       "V1 -0.175000  0.629981 -0.030000  0.000000  0.280000 -0.340000 -1.930000  \n",
       "V2 -0.535039  0.109941 -0.860039 -1.250049 -0.770039 -0.390039 -2.000039  \n",
       "V3 -0.595000 -0.270020 -0.150000  0.000000 -0.120000 -0.410000  0.000000  \n",
       "V4  0.095000 -0.350020 -0.300000 -1.150010  1.090000 -0.260000 -1.100000  \n",
       "V5 -0.320000  0.634980  0.605000  0.000000  0.745000  0.425000  0.145000  \n",
       "\n",
       "[5 rows x 6830 columns]"
      ]
     },
     "execution_count": 73,
     "metadata": {},
     "output_type": "execute_result"
    }
   ],
   "source": [
    "data = pd.read_csv('nci.data.csv', sep=\",\", index_col = 0)\n",
    "data.head()"
   ]
  },
  {
   "cell_type": "markdown",
   "metadata": {},
   "source": [
    "b) Standardise the data and then perform a principle compontent analysis it."
   ]
  },
  {
   "cell_type": "code",
   "execution_count": 89,
   "metadata": {},
   "outputs": [],
   "source": [
    "#Use the sklearn preprocessing function this time as it works on dataframes (unlike our self-written function)\n",
    "from sklearn import preprocessing\n",
    "normalised_features = preprocessing.scale(data.iloc[:, range(0,6830)])"
   ]
  },
  {
   "cell_type": "code",
   "execution_count": 80,
   "metadata": {},
   "outputs": [
    {
     "data": {
      "text/plain": [
       "PCA(copy=True, iterated_power='auto', n_components=None, random_state=None,\n",
       "  svd_solver='auto', tol=0.0, whiten=False)"
      ]
     },
     "execution_count": 80,
     "metadata": {},
     "output_type": "execute_result"
    }
   ],
   "source": [
    "pca2 = PCA()\n",
    "pca2.fit(normalised_features)"
   ]
  },
  {
   "cell_type": "markdown",
   "metadata": {},
   "source": [
    "c) Provide a plot of the proportion of variance explained (PVE)."
   ]
  },
  {
   "cell_type": "code",
   "execution_count": 83,
   "metadata": {},
   "outputs": [
    {
     "data": {
      "image/png": "[encoded data removed]",
      "text/plain": [
       "<matplotlib.figure.Figure at 0x1a12559c50>"
      ]
     },
     "metadata": {},
     "output_type": "display_data"
    }
   ],
   "source": [
    "plt.plot(pca2.explained_variance_)\n",
    "plt.xlabel('number of principal component')\n",
    "plt.ylabel('value of principal component')\n",
    "plt.show()"
   ]
  },
  {
   "cell_type": "markdown",
   "metadata": {},
   "source": [
    "c) The data is 6830 dimensional. Plot is data in the two-dimensional subspace, spaned by the first two principle components."
   ]
  },
  {
   "cell_type": "code",
   "execution_count": 91,
   "metadata": {},
   "outputs": [
    {
     "data": {
      "image/png": "[encoded data removed]",
      "text/plain": [
       "<matplotlib.figure.Figure at 0x1a12651518>"
      ]
     },
     "metadata": {},
     "output_type": "display_data"
    }
   ],
   "source": [
    "pca3 = PCA(n_components =2)\n",
    "pca3.fit(normalised_features)\n",
    "\n",
    "X_transformed = pca3.transform(normalised_features)\n",
    "plt.scatter(X_transformed[:,0],X_transformed[:,1])\n",
    "plt.show()"
   ]
  },
  {
   "cell_type": "markdown",
   "metadata": {},
   "source": [
    "## 1.3 Principal component regression and classification"
   ]
  },
  {
   "cell_type": "markdown",
   "metadata": {},
   "source": [
    "This is an optional exercise. Return to the [Arcene data set](http://archive.ics.uci.edu/ml/datasets/Arcene) from from the previous problem set."
   ]
  },
  {
   "cell_type": "markdown",
   "metadata": {},
   "source": [
    "a) Perform a PCA on the predictors of the Arcene data set. Plot the PVE to obtain a reduced number of principal components."
   ]
  },
  {
   "cell_type": "code",
   "execution_count": 92,
   "metadata": {
    "collapsed": true
   },
   "outputs": [],
   "source": [
    "#Let's load the data\n",
    "train_data = pd.read_csv('./Arcene-data/arcene_train.data.txt', sep=\" \", header= None)\n",
    "train_data = train_data.iloc[:, :-1]\n",
    "train_labels = np.squeeze(pd.read_csv('./Arcene-data/arcene_train.labels.txt', sep=\" \", header= None))\n",
    "\n",
    "validation_data = pd.read_csv('./Arcene-data/arcene_valid.data.txt', sep=\" \", header= None)\n",
    "validation_data = validation_data.iloc[:, :-1]\n",
    "validation_labels = np.squeeze(pd.read_csv('./Arcene-data/arcene_valid.labels.txt', sep=\" \", header= None))\n",
    "\n",
    "test_data = pd.read_csv('./Arcene-data/arcene_test.data.txt', sep=\" \", header= None)\n",
    "test_data = test_data.iloc[:, :-1]"
   ]
  },
  {
   "cell_type": "code",
   "execution_count": 94,
   "metadata": {},
   "outputs": [
    {
     "data": {
      "image/png": "[encoded data removed]",
      "text/plain": [
       "<matplotlib.figure.Figure at 0x1a127b9080>"
      ]
     },
     "metadata": {},
     "output_type": "display_data"
    }
   ],
   "source": [
    "#Let's do PCA and plot PVE\n",
    "normalised_features = preprocessing.scale(train_data.iloc[:, :10000])\n",
    "\n",
    "pca4 = PCA()\n",
    "pca4.fit(normalised_features)\n",
    "plt.plot(pca4.explained_variance_)\n",
    "plt.xlabel('number of principal component')\n",
    "plt.ylabel('value of principal component')\n",
    "plt.show()"
   ]
  },
  {
   "cell_type": "markdown",
   "metadata": {},
   "source": [
    "<span style=\"color:blue\"> It looks like $20$ principal components would be enough so we will use transform the data to a $20$ dimensional latent space using PCA </span>"
   ]
  },
  {
   "cell_type": "markdown",
   "metadata": {},
   "source": [
    "b) Perform a logistic regression on the Arcene data set, but now on the reduced set of principal components."
   ]
  },
  {
   "cell_type": "code",
   "execution_count": 108,
   "metadata": {},
   "outputs": [
    {
     "name": "stdout",
     "output_type": "stream",
     "text": [
      "0.9\n",
      "0.7\n"
     ]
    }
   ],
   "source": [
    "from sklearn.linear_model import LogisticRegression\n",
    "\n",
    "normalised_test_features = preprocessing.scale(validation_data.iloc[:, :10000])\n",
    "\n",
    "pca5 = PCA(n_components = 20)\n",
    "pca5.fit(normalised_features)\n",
    "\n",
    "X_transform = pca5.transform(normalised_features)\n",
    "X_test_transform = pca5.transform(normalised_test_features)\n",
    "\n",
    "model = LogisticRegression().fit(X_transform, train_labels)\n",
    "\n",
    "#Let's look at the (training) accuracy of our model\n",
    "print(model.score(X_transform, train_labels))\n",
    "#Let's look at the (test/validation) accuracy of our model\n",
    "print(model.score(X_test_transform, validation_labels))"
   ]
  },
  {
   "cell_type": "markdown",
   "metadata": {},
   "source": [
    "<span style=\"color:blue\">  Train accuracy looks decent, but test accuracy is actually much lower than before applying PCA. </span>"
   ]
  },
  {
   "cell_type": "markdown",
   "metadata": {},
   "source": [
    "# 2. Clustering"
   ]
  },
  {
   "cell_type": "markdown",
   "metadata": {},
   "source": [
    "## 2.1 K-means clustering on the NCI60 data"
   ]
  },
  {
   "cell_type": "markdown",
   "metadata": {},
   "source": [
    "Let's return to the NCI60 data."
   ]
  },
  {
   "cell_type": "markdown",
   "metadata": {},
   "source": [
    "a) Perform a K-means clustering with K = 4 clusters. Plot the data on the two-dimensional representation given by the first two principal components showing each cluster as a different colour"
   ]
  },
  {
   "cell_type": "code",
   "execution_count": 111,
   "metadata": {},
   "outputs": [
    {
     "data": {
      "image/png": "[encoded data removed]",
      "text/plain": [
       "<matplotlib.figure.Figure at 0x1a12d5bcf8>"
      ]
     },
     "metadata": {},
     "output_type": "display_data"
    }
   ],
   "source": [
    "from sklearn.cluster import KMeans\n",
    "\n",
    "normalised_features = preprocessing.scale(data.iloc[:, range(0,6830)])\n",
    "kmeans = KMeans(n_clusters=4, random_state=0).fit(normalised_features)\n",
    "\n",
    "cluster_predict = kmeans.fit_predict(normalised_features)\n",
    "\n",
    "X_transformed = pca3.transform(normalised_features)\n",
    "plt.scatter(X_transformed[:,0],X_transformed[:,1],c=cluster_predict)\n",
    "plt.show()"
   ]
  },
  {
   "cell_type": "markdown",
   "metadata": {},
   "source": [
    "b) In fact, the data comes from a supervised problem, where the points in the cancer cell line microarray data correspond to different types of cancer. Get the labels of the data and compare it to the cluster number."
   ]
  },
  {
   "cell_type": "code",
   "execution_count": 126,
   "metadata": {},
   "outputs": [
    {
     "data": {
      "image/png": "[encoded data removed]",
      "text/plain": [
       "<matplotlib.figure.Figure at 0x1a127c6780>"
      ]
     },
     "metadata": {},
     "output_type": "display_data"
    }
   ],
   "source": [
    "#First load the labels\n",
    "labels = np.squeeze(pd.read_csv('nci.labels.csv', sep=\",\", index_col = 0))\n",
    "#Then translate labels to numerical (integer) values using the LabelEncoder() function\n",
    "le = preprocessing.LabelEncoder()\n",
    "le.fit([\"CNS\",\"RENAL\",\"BREAST\",\"NSCLC\",\"OVARIAN\", \"PROSTATE\", \"MELANOMA\",\"MCF7A-repro\", \"MCF7D-repro\",\"K562B-repro\",\"K562A-repro\",\"MCF7D-repro\",\"COLON\",\"LEUKEMIA\",\"UNKNOWN\"])\n",
    "#Finally plot data with true labels as color coding \n",
    "plt.scatter(X_transformed[:,0],X_transformed[:,1],c=le.transform(labels))\n",
    "plt.show()"
   ]
  },
  {
   "cell_type": "markdown",
   "metadata": {},
   "source": [
    "<span style=\"color:blue\"> Some of the clusters that we have trained are clearly recognizable in the true labels, others can be split further into subclasses (15 true labels vs. 4 clusters) </span>"
   ]
  },
  {
   "cell_type": "markdown",
   "metadata": {},
   "source": [
    "## 2.2 Hierarchical clustering"
   ]
  },
  {
   "cell_type": "markdown",
   "metadata": {},
   "source": [
    "a) Do a hierarchical clustering on the NCI60 cancer cell line microarray data. Plot the dendrogram."
   ]
  },
  {
   "cell_type": "code",
   "execution_count": 141,
   "metadata": {
    "scrolled": true
   },
   "outputs": [
    {
     "data": {
      "image/png": "[encoded data removed]",
      "text/plain": [
       "<matplotlib.figure.Figure at 0x1a12eede10>"
      ]
     },
     "metadata": {},
     "output_type": "display_data"
    }
   ],
   "source": [
    "from scipy.cluster import hierarchy\n",
    "\n",
    "Z = hierarchy.linkage(normalised_features, 'ward')\n",
    "plt.figure()\n",
    "dn = hierarchy.dendrogram(Z)"
   ]
  },
  {
   "cell_type": "markdown",
   "metadata": {},
   "source": [
    "b) Cut the dendrogram such that you have K = 6 clusters. Colour each cluster and plot the data in the two-dimensional representation obtained from the PCA earlier."
   ]
  },
  {
   "cell_type": "code",
   "execution_count": 142,
   "metadata": {},
   "outputs": [
    {
     "data": {
      "image/png": "[encoded data removed]",
      "text/plain": [
       "<matplotlib.figure.Figure at 0x1a1260d940>"
      ]
     },
     "metadata": {},
     "output_type": "display_data"
    }
   ],
   "source": [
    "from scipy.cluster.hierarchy import dendrogram\n",
    "\n",
    "plt.title('Hierarchical Clustering Dendrogram (truncated)')\n",
    "plt.xlabel('sample index')\n",
    "plt.ylabel('distance')\n",
    "dendrogram(\n",
    "    Z,\n",
    "    truncate_mode='lastp',  # show only the last p merged clusters\n",
    "    p=6,  # show only the last p merged clusters\n",
    "    show_leaf_counts=False,  # otherwise numbers in brackets are counts\n",
    "    leaf_rotation=90.,\n",
    "    leaf_font_size=12.,\n",
    "    show_contracted=True,  # to get a distribution impression in truncated branches\n",
    ")\n",
    "plt.show()"
   ]
  },
  {
   "cell_type": "code",
   "execution_count": 143,
   "metadata": {},
   "outputs": [
    {
     "name": "stdout",
     "output_type": "stream",
     "text": [
      "[6 6 6 6 5 5 5 5 6 6 6 6 6 6 6 6 6 5 5 5 6 6 6 6 6 6 2 6 6 6 6 6 6 1 1 1 1\n",
      " 1 1 1 1 2 2 2 2 2 2 2 3 3 3 3 2 6 6 4 4 4 6 4 4 4 4 4]\n"
     ]
    },
    {
     "data": {
      "image/png": "[encoded data removed]",
      "text/plain": [
       "<matplotlib.figure.Figure at 0x1a12604860>"
      ]
     },
     "metadata": {},
     "output_type": "display_data"
    }
   ],
   "source": [
    "from scipy.cluster.hierarchy import fcluster\n",
    "k=6\n",
    "clusters = fcluster(Z, k, criterion='maxclust')\n",
    "\n",
    "print(clusters)\n",
    "\n",
    "\n",
    "plt.scatter(X_transformed[:,0],X_transformed[:,1],c=clusters)\n",
    "plt.show()"
   ]
  },
  {
   "cell_type": "code",
   "execution_count": null,
   "metadata": {
    "collapsed": true
   },
   "outputs": [],
   "source": []
  }
 ],
 "metadata": {
  "kernelspec": {
   "display_name": "Python 3",
   "language": "python",
   "name": "python3"
  },
  "language_info": {
   "codemirror_mode": {
    "name": "ipython",
    "version": 3
   },
   "file_extension": ".py",
   "mimetype": "text/x-python",
   "name": "python",
   "nbconvert_exporter": "python",
   "pygments_lexer": "ipython3",
   "version": "3.6.7"
  }
 },
 "nbformat": 4,
 "nbformat_minor": 2
}
