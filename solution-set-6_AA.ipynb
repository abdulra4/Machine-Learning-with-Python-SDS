{
 "cells": [
  {
   "cell_type": "markdown",
   "metadata": {},
   "source": [
    "# Intensive Module in Machine Learning\n",
    "# Problem set 6: Support Vector Machines"
   ]
  },
  {
   "cell_type": "markdown",
   "metadata": {},
   "source": [
    "If you are looking at the pdf/html version of this document, start by running the command `jupyter notebook` to launch an interactive notebook and then navigate to the correct folder and open this file `problem-set-6.ipynb`. Import your default packages for manipulating data and plotting:"
   ]
  },
  {
   "cell_type": "code",
   "execution_count": 54,
   "metadata": {},
   "outputs": [],
   "source": [
    "import numpy as np\n",
    "import pandas as pd\n",
    "from matplotlib import pyplot as plt\n",
    "%matplotlib inline "
   ]
  },
  {
   "cell_type": "markdown",
   "metadata": {},
   "source": [
    "## 1. Support Vector Classifier"
   ]
  },
  {
   "cell_type": "markdown",
   "metadata": {},
   "source": [
    "## 1.1 Toy example"
   ]
  },
  {
   "cell_type": "markdown",
   "metadata": {},
   "source": [
    "a) Generate a toy data set of random points in the plane of two classes. Plot the points in a scatter plot and colour the two labels. Make sure your random points have some structure (say one class further to the left one further to the right)."
   ]
  },
  {
   "cell_type": "code",
   "execution_count": 55,
   "metadata": {},
   "outputs": [
    {
     "data": {
      "image/png": "[encoded data removed]",
      "text/plain": [
       "<matplotlib.figure.Figure at 0x1a20618a58>"
      ]
     },
     "metadata": {},
     "output_type": "display_data"
    }
   ],
   "source": [
    "#Let's fix the random seed\n",
    "np.random.seed(2000)\n",
    "\n",
    "data = np.zeros(shape=(3,20))\n",
    "data[0,:10] = np.random.normal(1,2,10)\n",
    "data[1,:10] = np.random.normal(3,2,10)\n",
    "data[0,10:] = np.random.normal(3,1,10)\n",
    "data[1,10:] = np.random.normal(1,1,10)\n",
    "data[2,10:] = np.ones(10)\n",
    "\n",
    "plt.scatter(data[0,:], data[1,:], c=data[2,:])\n",
    "plt.show()"
   ]
  },
  {
   "cell_type": "markdown",
   "metadata": {},
   "source": [
    "b) Train a support vector classifier (linear model)."
   ]
  },
  {
   "cell_type": "code",
   "execution_count": 56,
   "metadata": {},
   "outputs": [
    {
     "data": {
      "text/plain": [
       "0.84999999999999998"
      ]
     },
     "execution_count": 56,
     "metadata": {},
     "output_type": "execute_result"
    }
   ],
   "source": [
    "from sklearn.svm import SVC\n",
    "\n",
    "X = np.transpose(data[0:2,:])\n",
    "y = data[2,:]\n",
    "\n",
    "model = SVC(kernel='linear')\n",
    "model.fit(X,y)\n",
    "model.score(X,y)"
   ]
  },
  {
   "cell_type": "markdown",
   "metadata": {},
   "source": [
    "c) Add the decision boundary to your scatter plot. "
   ]
  },
  {
   "cell_type": "code",
   "execution_count": 57,
   "metadata": {},
   "outputs": [
    {
     "data": {
      "image/png": "[encoded data removed]",
      "text/plain": [
       "<matplotlib.figure.Figure at 0x1a206181d0>"
      ]
     },
     "metadata": {},
     "output_type": "display_data"
    }
   ],
   "source": [
    "def plot_hyperplane(clf, min_x, max_x, linestyle):\n",
    "    # get the separating hyperplane\n",
    "    w = clf.coef_[0]\n",
    "    a = -w[0] / w[1]\n",
    "    xx = np.linspace(min_x - 1, max_x + 1)  # make sure the line is long enough\n",
    "    yy = a * xx - (clf.intercept_[0]) / w[1]\n",
    "    plt.plot(xx, yy, linestyle)\n",
    "\n",
    "plt.scatter(data[0,:], data[1,:], c=data[2,:])\n",
    "plot_hyperplane(model, -4, 4, 'k--')\n",
    "plt.show()"
   ]
  },
  {
   "cell_type": "markdown",
   "metadata": {},
   "source": [
    "## 1.2 Support vector classifier for Spam data"
   ]
  },
  {
   "cell_type": "markdown",
   "metadata": {},
   "source": [
    "Let's go back to the spam data set from day 1."
   ]
  },
  {
   "cell_type": "markdown",
   "metadata": {},
   "source": [
    "a) Load the data and split it in train and cross-validation set."
   ]
  },
  {
   "cell_type": "code",
   "execution_count": 45,
   "metadata": {},
   "outputs": [],
   "source": [
    "data2 = pd.read_csv('Spam_Data.txt', sep=\",\", header=None)\n",
    "\n",
    "#Split data into training and testing data\n",
    "mask = np.random.rand(len(data2)) < 0.8\n",
    "train = data2[mask]\n",
    "test = data2[~mask]\n",
    "\n",
    "#Split training data into training and cross validation data\n",
    "mask = np.random.rand(len(train)) < 0.8\n",
    "cvset = train[~mask]\n",
    "train = train[mask]\n",
    "\n",
    "X2 = train.loc[:, range(0,57)]\n",
    "y2 = train.loc[:, 57]\n",
    "X2_cv = cvset.loc[:, range(0,57)]\n",
    "y2_cv = cvset.loc[:, 57]\n",
    "X2_test = test.loc[:, range(0,57)]\n",
    "y2_test = test.loc[:, 57]"
   ]
  },
  {
   "cell_type": "markdown",
   "metadata": {},
   "source": [
    "b) Train a support vector classifier (linear model)."
   ]
  },
  {
   "cell_type": "code",
   "execution_count": 35,
   "metadata": {},
   "outputs": [
    {
     "data": {
      "text/plain": [
       "0.93600273785078714"
      ]
     },
     "execution_count": 35,
     "metadata": {},
     "output_type": "execute_result"
    }
   ],
   "source": [
    "model2 = SVC(kernel='linear')\n",
    "model2.fit(X2,y2)\n",
    "model2.score(X2,y2)"
   ]
  },
  {
   "cell_type": "markdown",
   "metadata": {},
   "source": [
    "c) Use the corss-validation set to determine the optimal value of your cost parameter."
   ]
  },
  {
   "cell_type": "code",
   "execution_count": 63,
   "metadata": {},
   "outputs": [],
   "source": [
    "costs = [0.001,0.01,0.1,1,10]\n",
    "\n",
    "scores = list()\n",
    "\n",
    "for c in costs:\n",
    "    model2 = SVC(C= c, kernel='linear')\n",
    "    model2.fit(X2,y2)\n",
    "    scores.append(model2.score(X2_cv,y2_cv))\n"
   ]
  },
  {
   "cell_type": "code",
   "execution_count": 43,
   "metadata": {},
   "outputs": [
    {
     "data": {
      "image/png": "[encoded data removed]",
      "text/plain": [
       "<matplotlib.figure.Figure at 0x1a2071e860>"
      ]
     },
     "metadata": {},
     "output_type": "display_data"
    }
   ],
   "source": [
    "# Let's plot the outcome of our CV\n",
    "plt.figure(1, figsize=(8, 8))\n",
    "plt.clf()\n",
    "plt.plot(costs, scores)\n",
    "locs, labels = plt.yticks()\n",
    "plt.yticks(locs, list(map(lambda x: \"%g\" % x, locs)))\n",
    "plt.ylabel('Accuracy on validation set')\n",
    "plt.xlabel('Cost parameter C')\n",
    "plt.xscale('log')\n",
    "plt.show()"
   ]
  },
  {
   "cell_type": "markdown",
   "metadata": {},
   "source": [
    "d) Report the model performance (missclassification rate, AUC) of your best model."
   ]
  },
  {
   "cell_type": "code",
   "execution_count": 61,
   "metadata": {},
   "outputs": [
    {
     "name": "stdout",
     "output_type": "stream",
     "text": [
      "Accuracy on test set: 0.932773109244\n",
      "AUC: 0.926582620313\n"
     ]
    }
   ],
   "source": [
    "from sklearn import metrics\n",
    "\n",
    "model2 = SVC(C= 1, kernel='linear')\n",
    "model2.fit(X2,y2)\n",
    "print('Accuracy on test set:',model2.score(X_test,y_test))\n",
    "\n",
    "pred = model2.predict(X2_test)\n",
    "fpr, tpr, _ = metrics.roc_curve(y2_test, pred)\n",
    "print('AUC:',metrics.auc(fpr, tpr))"
   ]
  },
  {
   "cell_type": "markdown",
   "metadata": {},
   "source": [
    "# 2. Support Vector Machines"
   ]
  },
  {
   "cell_type": "markdown",
   "metadata": {},
   "source": [
    "## 2.1 Toy example"
   ]
  },
  {
   "cell_type": "markdown",
   "metadata": {},
   "source": [
    "Let's go back to the toy example from the first exercise"
   ]
  },
  {
   "cell_type": "markdown",
   "metadata": {},
   "source": [
    "a) Train different SVMs using different kernels (exponential, quadratic). "
   ]
  },
  {
   "cell_type": "code",
   "execution_count": 58,
   "metadata": {},
   "outputs": [
    {
     "name": "stdout",
     "output_type": "stream",
     "text": [
      "Accuracy of exponential kernel SVM: 1.0\n",
      "Accuracy of quadratic kernel SVM: 0.85\n"
     ]
    }
   ],
   "source": [
    "model3 = SVC(kernel = 'rbf')\n",
    "model4 = SVC(kernel = 'poly', degree = 2)\n",
    "\n",
    "model3.fit(X,y)\n",
    "model4.fit(X,y)\n",
    "\n",
    "print('Accuracy of exponential kernel SVM:', model3.score(X,y))\n",
    "print('Accuracy of quadratic kernel SVM:', model4.score(X,y))"
   ]
  },
  {
   "cell_type": "markdown",
   "metadata": {},
   "source": [
    "b) Look at the decision boundaries for each case. Hint: To plot it you might take a grid of points on a dense mesh in the plane, run the predict function on it and then plot them with their predicted label."
   ]
  },
  {
   "cell_type": "code",
   "execution_count": 60,
   "metadata": {},
   "outputs": [
    {
     "data": {
      "image/png": "[encoded data removed]",
      "text/plain": [
       "<matplotlib.figure.Figure at 0x10d5dd2b0>"
      ]
     },
     "metadata": {},
     "output_type": "display_data"
    }
   ],
   "source": [
    "from matplotlib.colors import ListedColormap\n",
    "cmap_light = ListedColormap(['#FFAAAA', '#AAFFAA'])\n",
    "cmap_bold  = ListedColormap(['#FF0000', '#00FF00'])\n",
    "\n",
    "mesh_step_size = .01  # step size in the mesh\n",
    "plot_symbol_size = 50\n",
    "    \n",
    "x_min, x_max = data[0,:].min() - 1, data[0,:].max() + 1\n",
    "y_min, y_max = data[1,:].min() - 1, data[1,:].max() + 1\n",
    "xx, yy = np.meshgrid(np.arange(x_min, x_max, mesh_step_size),\n",
    "                         np.arange(y_min, y_max, mesh_step_size))\n",
    "\n",
    "f, axarr = plt.subplots(3, 1, sharex='col', sharey='row', figsize=(8, 12))\n",
    "\n",
    "for idx, clf, tt in zip([0,1,2],\n",
    "                        [model, model3, model4],\n",
    "                        ['Linear kernel', 'Exponential kernel',\n",
    "                         'Quadratic kernel']):\n",
    "\n",
    "    Z = clf.predict(np.c_[xx.ravel(), yy.ravel()])\n",
    "    Z = Z.reshape(xx.shape)\n",
    "\n",
    "    axarr[idx].pcolormesh(xx, yy, Z, cmap=cmap_light)#contourf(xx, yy, Z, alpha=0.4)\n",
    "    axarr[idx].scatter(X[:, 0], X[:, 1], c=y,\n",
    "                                  s=20,cmap = cmap_bold, edgecolor='k')\n",
    "    axarr[idx].set_title(tt)\n",
    "\n",
    "plt.show()"
   ]
  },
  {
   "cell_type": "markdown",
   "metadata": {},
   "source": [
    "## 2.2 Heart Data"
   ]
  },
  {
   "cell_type": "markdown",
   "metadata": {},
   "source": [
    "For this exercise we go back to the Heart Data."
   ]
  },
  {
   "cell_type": "markdown",
   "metadata": {},
   "source": [
    "a) Fit a SVM using an exponential kernel. Tune the models hyper-parameter on the cross-validation set."
   ]
  },
  {
   "cell_type": "markdown",
   "metadata": {},
   "source": [
    "<span style=\"color:blue\"> First, we load and preprocess the data. </span>"
   ]
  },
  {
   "cell_type": "code",
   "execution_count": 74,
   "metadata": {},
   "outputs": [],
   "source": [
    "from sklearn import preprocessing\n",
    "\n",
    "data3 = pd.read_csv('Heart.csv', sep=\",\",index_col = 0)\n",
    "data3 = data3.dropna()\n",
    "\n",
    "#First, transform response variable AHD to 0-1 encoded class labels\n",
    "le = preprocessing.LabelEncoder()\n",
    "le.fit(data3['AHD'])\n",
    "data3['AHD'] = le.transform(data3['AHD']) \n",
    "#Next, transform the 2 feature columns with string values to one-hot-encoded values\n",
    "data3 = pd.get_dummies(data3,prefix=['ChestPain','Thal'])\n",
    "#Finally, move 0-1 encoded AHD column to front so we can isolate feature columns easily\n",
    "cols = list(data3)\n",
    "cols.insert(0, cols.pop(cols.index('AHD')))\n",
    "data3 = data3.loc[:, cols]\n",
    "\n",
    "#Split data into training and test data\n",
    "mask3 = np.random.rand(len(data3)) < 0.8\n",
    "train3 = data3[mask3]\n",
    "test3 = data3[~mask3]\n",
    "\n",
    "#Split training data into training and cross validation data\n",
    "mask3 = np.random.rand(len(train3)) < 0.8\n",
    "cvset3 = train3[~mask3]\n",
    "train3 = train3[mask3]\n",
    "\n",
    "X3 = train3.iloc[:,1:]\n",
    "y3 = train3['AHD']\n",
    "X3_cv = cvset3.iloc[:,1:]\n",
    "y3_cv = cvset3['AHD']\n",
    "X3_test = test3.iloc[:,1:]\n",
    "y3_test = test3['AHD']"
   ]
  },
  {
   "cell_type": "markdown",
   "metadata": {},
   "source": [
    "<span style=\"color:blue\"> Then we can fit the SVM with exponential kernel and tune its hyperparameter on the cross validation set.</span>"
   ]
  },
  {
   "cell_type": "code",
   "execution_count": 95,
   "metadata": {},
   "outputs": [
    {
     "name": "stdout",
     "output_type": "stream",
     "text": [
      "[ 0.51219512  0.51219512  0.68292683  0.75609756  0.80487805  0.87804878\n",
      "  0.80487805  0.75609756]\n",
      "5\n"
     ]
    }
   ],
   "source": [
    "def svm_rbf_tuned_eval(C, logGamma):\n",
    "    model = SVC(C=C, kernel = 'rbf', gamma=10**logGamma).fit(X3, y3)\n",
    "    pred = model.predict(X3_cv)\n",
    "    fpr, tpr, _ = metrics.roc_curve(y3_cv, pred)\n",
    "    auc = metrics.auc(fpr, tpr)\n",
    "    accuracy = model.score(X3_cv,y3_cv)\n",
    "    return auc,accuracy\n",
    "\n",
    "costs = [0.01,0.1,1,10,100,1000,10000,100000]\n",
    "logGamma = [-4,-3,-2,-1,0] \n",
    "\n",
    "aucs = np.zeros(len(costs))\n",
    "scores = np.zeros(len(costs))\n",
    "gamma = np.zeros(len(costs))\n",
    "\n",
    "for ii in range(0,len(costs)):\n",
    "    best_score = 0.0\n",
    "    for g in logGamma:\n",
    "        auc,score = svm_rbf_tuned_eval(costs[ii], g)\n",
    "        if score > best_score:\n",
    "            best_score = score\n",
    "            scores[ii] = score\n",
    "            aucs[ii] = auc\n",
    "            gamma[ii] = g\n",
    "\n",
    "print(scores)\n",
    "print(np.argmax(scores))"
   ]
  },
  {
   "cell_type": "markdown",
   "metadata": {},
   "source": [
    "b) Report your final model performance."
   ]
  },
  {
   "cell_type": "code",
   "execution_count": 102,
   "metadata": {},
   "outputs": [
    {
     "name": "stdout",
     "output_type": "stream",
     "text": [
      "Accuracy of finetuned model on test data: 0.796610169492\n"
     ]
    }
   ],
   "source": [
    "#The highest accuracy was achieved for entry 5, so lets test that model on our test data:\n",
    "\n",
    "model5 = SVC(C = costs[5], kernel = 'rbf', gamma=10**gamma[5])\n",
    "#join (core) training and cross validation set to regain your full training set\n",
    "Xframes = [X3, X3_cv]\n",
    "yframes = [y3, y3_cv]\n",
    "X4 = pd.concat(Xframes)\n",
    "y4 = pd.concat(yframes)\n",
    "\n",
    "model5.fit(X4,y4)\n",
    "\n",
    "print('Accuracy of finetuned model on test data:', model5.score(X3_test,y3_test))"
   ]
  },
  {
   "cell_type": "code",
   "execution_count": null,
   "metadata": {},
   "outputs": [],
   "source": []
  }
 ],
 "metadata": {
  "kernelspec": {
   "display_name": "Python 3",
   "language": "python",
   "name": "python3"
  },
  "language_info": {
   "codemirror_mode": {
    "name": "ipython",
    "version": 3
   },
   "file_extension": ".py",
   "mimetype": "text/x-python",
   "name": "python",
   "nbconvert_exporter": "python",
   "pygments_lexer": "ipython3",
   "version": "3.7.0"
  }
 },
 "nbformat": 4,
 "nbformat_minor": 2
}
