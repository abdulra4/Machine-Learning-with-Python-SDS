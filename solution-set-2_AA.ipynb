{
 "cells": [
  {
   "cell_type": "markdown",
   "metadata": {},
   "source": [
    "# Intensive Module in Machine Learning\n",
    "# Problem set 2: Classification "
   ]
  },
  {
   "cell_type": "markdown",
   "metadata": {},
   "source": [
    "If you are looking at the pdf/html version of this document, start by running the command `jupyter notebook` to launch an interactive notebook and then navigate to the correct folder and open this file `problem-set-2.ipynb`. Import your default packages for manipulating data and plotting:"
   ]
  },
  {
   "cell_type": "code",
   "execution_count": 2,
   "metadata": {},
   "outputs": [],
   "source": [
    "import numpy as np\n",
    "import pandas as pd\n",
    "from matplotlib import pyplot as plt\n",
    "%matplotlib inline "
   ]
  },
  {
   "cell_type": "markdown",
   "metadata": {},
   "source": [
    "## 1. A toy example for logistic regression"
   ]
  },
  {
   "cell_type": "markdown",
   "metadata": {},
   "source": [
    "Before going to real-data examples, let us look at a very simple derived example where it is easy to understand the basic concepts."
   ]
  },
  {
   "cell_type": "markdown",
   "metadata": {},
   "source": [
    "### 1.1 The sigmoid function"
   ]
  },
  {
   "cell_type": "markdown",
   "metadata": {},
   "source": [
    "a) A very important function in logistic regression is the sigmoid function, given by $f(y)=e^y/(1+e^y)$. See whether you can mathematically derive the asymptotic behaviour of this function. Confirm your intuition by plotting it using python."
   ]
  },
  {
   "cell_type": "code",
   "execution_count": 3,
   "metadata": {},
   "outputs": [
    {
     "data": {
      "image/png": "[encoded data removed]",
      "text/plain": [
       "<matplotlib.figure.Figure at 0x110fe89b0>"
      ]
     },
     "metadata": {
      "needs_background": "light"
     },
     "output_type": "display_data"
    }
   ],
   "source": [
    "def sigmoid_f(x):\n",
    "    f = np.exp(x)/(1.0+np.exp(x))\n",
    "    return f\n",
    "\n",
    "x_grid = np.arange(-10,10,0.01)\n",
    "y_values = sigmoid_f(x_grid)\n",
    "\n",
    "plt.plot(x_grid,y_values)\n",
    "plt.show()"
   ]
  },
  {
   "cell_type": "markdown",
   "metadata": {},
   "source": [
    "b) Now set $y=a+bx$ and plot the function $f(a+bx)$ for a number of values for a and b."
   ]
  },
  {
   "cell_type": "code",
   "execution_count": 7,
   "metadata": {},
   "outputs": [
    {
     "data": {
      "image/png": "[encoded data removed]",
      "text/plain": [
       "<matplotlib.figure.Figure at 0x116b3cf28>"
      ]
     },
     "metadata": {
      "needs_background": "light"
     },
     "output_type": "display_data"
    }
   ],
   "source": [
    "def linear_transform(x,a=1,b=0):\n",
    "    f = a + b*x\n",
    "    return f\n",
    "\n",
    "x_grid = np.arange(-20,20,0.01)\n",
    "\n",
    "#Let's define some illustratory values for a and b\n",
    "a = [-2,0.1,2]\n",
    "b = [-1,0.1,1]\n",
    "\n",
    "for kk in range(0,len(a)):\n",
    "    y_values = sigmoid_f(linear_transform(x_grid,a[kk],b[kk]))\n",
    "    plt.plot(x_grid,y_values, label='a = '+str(a[kk])+', b = '+str(b[kk]))\n",
    "\n",
    "plt.legend()\n",
    "plt.show()"
   ]
  },
  {
   "cell_type": "markdown",
   "metadata": {},
   "source": [
    "### 1.2 Looking at the simple example from Wikipedia"
   ]
  },
  {
   "cell_type": "markdown",
   "metadata": {},
   "source": [
    "a) We now look at the simple toy example from Wikipedia with data on passing an exam or not as a function of the number of hours studied. Fit a (univariate) logistic regression to the data. For the purpose of this example you can treat the entire data as training data."
   ]
  },
  {
   "cell_type": "code",
   "execution_count": 9,
   "metadata": {},
   "outputs": [
    {
     "data": {
      "text/html": [
       "<div>\n",
       "<style scoped>\n",
       "    .dataframe tbody tr th:only-of-type {\n",
       "        vertical-align: middle;\n",
       "    }\n",
       "\n",
       "    .dataframe tbody tr th {\n",
       "        vertical-align: top;\n",
       "    }\n",
       "\n",
       "    .dataframe thead th {\n",
       "        text-align: right;\n",
       "    }\n",
       "</style>\n",
       "<table border=\"1\" class=\"dataframe\">\n",
       "  <thead>\n",
       "    <tr style=\"text-align: right;\">\n",
       "      <th></th>\n",
       "      <th>hours</th>\n",
       "      <th>passed</th>\n",
       "    </tr>\n",
       "  </thead>\n",
       "  <tbody>\n",
       "    <tr>\n",
       "      <th>0</th>\n",
       "      <td>0.50</td>\n",
       "      <td>0</td>\n",
       "    </tr>\n",
       "    <tr>\n",
       "      <th>1</th>\n",
       "      <td>0.75</td>\n",
       "      <td>0</td>\n",
       "    </tr>\n",
       "    <tr>\n",
       "      <th>2</th>\n",
       "      <td>1.00</td>\n",
       "      <td>0</td>\n",
       "    </tr>\n",
       "    <tr>\n",
       "      <th>3</th>\n",
       "      <td>1.25</td>\n",
       "      <td>0</td>\n",
       "    </tr>\n",
       "    <tr>\n",
       "      <th>4</th>\n",
       "      <td>1.50</td>\n",
       "      <td>0</td>\n",
       "    </tr>\n",
       "  </tbody>\n",
       "</table>\n",
       "</div>"
      ],
      "text/plain": [
       "   hours  passed\n",
       "0   0.50       0\n",
       "1   0.75       0\n",
       "2   1.00       0\n",
       "3   1.25       0\n",
       "4   1.50       0"
      ]
     },
     "execution_count": 9,
     "metadata": {},
     "output_type": "execute_result"
    }
   ],
   "source": [
    "#Let's start by loading the data and checking it has properly loaded using the .head() function in pandas\n",
    "data = pd.read_csv('Wiki-example.csv', sep=\",\")\n",
    "data.head()"
   ]
  },
  {
   "cell_type": "code",
   "execution_count": 10,
   "metadata": {},
   "outputs": [
    {
     "data": {
      "text/plain": [
       "0.8"
      ]
     },
     "execution_count": 10,
     "metadata": {},
     "output_type": "execute_result"
    }
   ],
   "source": [
    "from sklearn.linear_model import LogisticRegression\n",
    "model = LogisticRegression().fit(data[['hours']], data['passed'])\n",
    "\n",
    "#Let's look at the (training) accuracy of our model\n",
    "model.score(data[['hours']], data['passed'])"
   ]
  },
  {
   "cell_type": "markdown",
   "metadata": {},
   "source": [
    "b) The above example is one-dimensional and has 20 observations. Let's add a second fictious predictor (column) of the number of hours of sleep the student had. Sample 12 normal random numbers with mean=6 and sd=3, followed by 8 normals with mean=8 sd=2. Add those numbers as a new column to your data called sleep. Now fit a multi-variate logistic regression model. The nice thing about this two-dimensional example is that we can plot it which helps us to understand better what's going on. Plot the data points in the (hours studied, hours slept) space, labelling data point according to their labels (e.g. square for passed, triangle for not passed). Add the decision boundary to your plot."
   ]
  },
  {
   "cell_type": "code",
   "execution_count": 11,
   "metadata": {},
   "outputs": [
    {
     "data": {
      "image/png": "[encoded data removed]",
      "text/plain": [
       "<matplotlib.figure.Figure at 0x1a1be028d0>"
      ]
     },
     "metadata": {
      "needs_background": "light"
     },
     "output_type": "display_data"
    }
   ],
   "source": [
    "#First create the new column using the np.random.normal function\n",
    "new_column = np.random.normal(6,3,12)\n",
    "new_column = np.append(new_column,np.random.normal(8,2,8))\n",
    "#Add the new column to the dataframe and fit the multi-variate logisitic regression model\n",
    "data = data.assign(sleep=new_column)\n",
    "model2 = LogisticRegression().fit(data[['hours','sleep']], data['passed'])\n",
    "\n",
    "c = model2.predict(data[['hours','sleep']])\n",
    "x,y,c = data['hours'],data['sleep'],data['passed']\n",
    "\n",
    "# Plot the decision boundary by assigning a color in the color map to each mesh point.   \n",
    "\n",
    "# Create color maps\n",
    "from matplotlib.colors import ListedColormap\n",
    "cmap_light = ListedColormap(['#FFAAAA', '#AAFFAA'])\n",
    "cmap_bold  = ListedColormap(['#FF0000', '#00FF00'])\n",
    "\n",
    "mesh_step_size = .01  # step size in the mesh\n",
    "plot_symbol_size = 50\n",
    "    \n",
    "x_min, x_max = data['hours'].min() - 1, data['hours'].max() + 1\n",
    "y_min, y_max = data['sleep'].min() - 1, data['sleep'].max() + 1\n",
    "xx, yy = np.meshgrid(np.arange(x_min, x_max, mesh_step_size),\n",
    "                         np.arange(y_min, y_max, mesh_step_size))\n",
    "Z = model2.predict(np.c_[xx.ravel(), yy.ravel()])\n",
    "# Put the result into a color plot\n",
    "Z = Z.reshape(xx.shape)\n",
    "plt.figure()\n",
    "plt.pcolormesh(xx, yy, Z, cmap=cmap_light)\n",
    "plt.scatter(x, y, s=plot_symbol_size,cmap = cmap_bold, c=c, edgecolor = 'black')\n",
    "plt.xlabel('hours studied')\n",
    "plt.ylabel('sleep')\n",
    "\n",
    "#add a legend\n",
    "import matplotlib.patches as mpatches\n",
    "patch0 = mpatches.Patch(color='#FF0000', label='Fail')\n",
    "patch1 = mpatches.Patch(color='#00FF00', label='Pass')\n",
    "plt.legend(handles=[patch0, patch1])\n",
    "\n",
    "plt.show()"
   ]
  },
  {
   "cell_type": "markdown",
   "metadata": {},
   "source": [
    "## 2. Spam Data: classifying emails for spam"
   ]
  },
  {
   "cell_type": "markdown",
   "metadata": {},
   "source": [
    "a) Split the Spam data into a training and test set. Fit a logistic regression classifier to the data. Test your performance in terms of missclassification error on the test set."
   ]
  },
  {
   "cell_type": "code",
   "execution_count": 12,
   "metadata": {},
   "outputs": [
    {
     "data": {
      "text/plain": [
       "0.929192546583851"
      ]
     },
     "execution_count": 12,
     "metadata": {},
     "output_type": "execute_result"
    }
   ],
   "source": [
    "data = pd.read_csv('Spam_Data.txt', sep=\",\", header=None)\n",
    "\n",
    "#Fix random seed for reproducability\n",
    "np.seed = 20\n",
    "\n",
    "#Split data into training and testing data\n",
    "mask = np.random.rand(len(data)) < 0.667\n",
    "train = data[mask]\n",
    "test = data[~mask]\n",
    "\n",
    "#Train and test model\n",
    "model3 = LogisticRegression().fit(train.loc[:, range(0,57)], train.loc[:, 57])\n",
    "model3.score(test.loc[:, range(0,57)], test.loc[:, 57])"
   ]
  },
  {
   "cell_type": "markdown",
   "metadata": {},
   "source": [
    "b) Apart from the missclassification error also look at other metrics such as the confusion matrix and ROC curve"
   ]
  },
  {
   "cell_type": "code",
   "execution_count": 13,
   "metadata": {},
   "outputs": [
    {
     "name": "stdout",
     "output_type": "stream",
     "text": [
      "[[920  41]\n",
      " [ 73 576]]\n"
     ]
    }
   ],
   "source": [
    "#Let's look at the confusion matrix for the test data\n",
    "\n",
    "from sklearn.metrics import confusion_matrix\n",
    "y_true = test.loc[:, 57]\n",
    "y_pred = model3.predict(test.loc[:, range(0,57)])\n",
    "print(confusion_matrix(y_true, y_pred))"
   ]
  },
  {
   "cell_type": "code",
   "execution_count": 14,
   "metadata": {},
   "outputs": [
    {
     "data": {
      "image/png": "[encoded data removed]",
      "text/plain": [
       "<matplotlib.figure.Figure at 0x116a56208>"
      ]
     },
     "metadata": {
      "needs_background": "light"
     },
     "output_type": "display_data"
    }
   ],
   "source": [
    "#Let's look at the ROC curve for the test data\n",
    "from sklearn.metrics import roc_curve\n",
    "\n",
    "y_pred = model3.predict_proba(test.loc[:, range(0,57)])[:, 1]\n",
    "fpr, tpr, _ = roc_curve(y_true, y_pred)\n",
    "\n",
    "plt.figure(1)\n",
    "plt.plot([0, 1], [0, 1], 'k--')\n",
    "plt.plot(fpr, tpr)\n",
    "plt.xlabel('False positive rate')\n",
    "plt.ylabel('True positive rate')\n",
    "plt.title('ROC curve')\n",
    "plt.show()"
   ]
  },
  {
   "cell_type": "markdown",
   "metadata": {},
   "source": [
    "c) Imagine that we attach a higher cost to missing an important email, than to reading a spam eamil. Thus, for example, we want to make sure that the amount of non-spam emails wrongly classified as spam is less than 1%. Ajust the threshold probability in your model to skew the classifier to achieve this."
   ]
  },
  {
   "cell_type": "code",
   "execution_count": 15,
   "metadata": {},
   "outputs": [
    {
     "name": "stdout",
     "output_type": "stream",
     "text": [
      "[[1807   20]\n",
      " [ 474  690]]\n"
     ]
    }
   ],
   "source": [
    "#First, we write a function that shifts the threshold probability in our model,\n",
    "#i.e. only classifies something as spam if the probability of the model is greater or equal a specified threshold\n",
    "def adjusted_prediction(y_proba,threshold = 0.5):\n",
    "    y_pred = np.zeros(len(y_proba))\n",
    "    y_pred[y_proba >= threshold] = 1\n",
    "    return y_pred\n",
    "\n",
    "#Subsequently, playing around with the threshold and analysing the confusion matrix \n",
    "#to check whether the goal of less than 1% is achieved\n",
    "threshold = 0.9\n",
    "\n",
    "y_true = train.loc[:, 57]\n",
    "y_pred = adjusted_prediction(model3.predict_proba(train.loc[:, range(0,57)])[:, 1],threshold)\n",
    "print(confusion_matrix(y_true, y_pred))"
   ]
  },
  {
   "cell_type": "markdown",
   "metadata": {},
   "source": [
    "<span style=\"color:blue\">For threshold 0.9, we have only 19 non-spam messages out of 1857 which are classfied as spam (about 1%)</span>"
   ]
  },
  {
   "cell_type": "markdown",
   "metadata": {},
   "source": [
    "d) (optional challange) If you finish early with all the other exercises and want to prepare for next week, you might try this exercise. Note however that it requires some background reading. Let's view the logistic regression performed above as a one layer neural network, use TensorFlow to fit the logistic regression using gradient descent. "
   ]
  },
  {
   "cell_type": "markdown",
   "metadata": {},
   "source": [
    "<span style=\"color:blue\"> Will be revisited in example solutions next week. </span>"
   ]
  },
  {
   "cell_type": "markdown",
   "metadata": {},
   "source": [
    "## 3. Linear and Quadratic Discriminant Analysis"
   ]
  },
  {
   "cell_type": "markdown",
   "metadata": {},
   "source": [
    "### 3.1 . Linear discriminant analysis"
   ]
  },
  {
   "cell_type": "markdown",
   "metadata": {},
   "source": [
    "In the lectures we learned about linear discriminant analysis. Go back to the Spam data set as analysed in the previous exercise and fit a linear discriminant analysis (LDA) model. Compare it to the logistic regression results. What have both models conceptually in common?"
   ]
  },
  {
   "cell_type": "code",
   "execution_count": 16,
   "metadata": {},
   "outputs": [
    {
     "name": "stdout",
     "output_type": "stream",
     "text": [
      "Test accuracy Logistic Regression model = 0.929192546583851\n",
      "Test accuracy LDA model = 0.886335403726708\n"
     ]
    }
   ],
   "source": [
    "from sklearn.discriminant_analysis import LinearDiscriminantAnalysis\n",
    "\n",
    "model4 = LinearDiscriminantAnalysis()\n",
    "model4.fit(train.loc[:, range(0,57)], train.loc[:, 57])\n",
    "\n",
    "print('Test accuracy Logistic Regression model =',model3.score(test.loc[:, range(0,57)], test.loc[:, 57]))\n",
    "print('Test accuracy LDA model =',model4.score(test.loc[:, range(0,57)], test.loc[:, 57]))"
   ]
  },
  {
   "cell_type": "markdown",
   "metadata": {},
   "source": [
    "<span style=\"color:blue\"> Both models find a linear decision boundary in the input space (for Logistic Regression, this can be seen in plot of Exercise 1b) </span>"
   ]
  },
  {
   "cell_type": "markdown",
   "metadata": {},
   "source": [
    "### 3.2 . Quadratic discriminant analysis"
   ]
  },
  {
   "cell_type": "markdown",
   "metadata": {},
   "source": [
    "Now repeat the same with a quatradic discriminant analysis (QDA) model. How do the results compare to the above? How does the decision boundary differ?"
   ]
  },
  {
   "cell_type": "code",
   "execution_count": 17,
   "metadata": {},
   "outputs": [
    {
     "name": "stdout",
     "output_type": "stream",
     "text": [
      "Test accuracy QDA model = 0.8316770186335404\n"
     ]
    }
   ],
   "source": [
    "from sklearn.discriminant_analysis import QuadraticDiscriminantAnalysis\n",
    "\n",
    "model5 = QuadraticDiscriminantAnalysis()\n",
    "model5.fit(train.loc[:, range(0,57)], train.loc[:, 57])\n",
    "\n",
    "print('Test accuracy QDA model =',model5.score(test.loc[:, range(0,57)], test.loc[:, 57]))\n"
   ]
  },
  {
   "cell_type": "markdown",
   "metadata": {},
   "source": [
    "<span style=\"color:blue\"> While the decision boundary of the LDA model is always linear, the decision boundary of the QDA model can be non-linear (quadratic). However in the given example, linear separation seems to be superior, as the test accuracy of the QDA model is inferior. Note also the possible numerical instabilities during matrix inversion if variables are found to be collinear might additionally decrease model performance of QDA. </span>"
   ]
  },
  {
   "cell_type": "code",
   "execution_count": null,
   "metadata": {
    "collapsed": true
   },
   "outputs": [],
   "source": []
  }
 ],
 "metadata": {
  "kernelspec": {
   "display_name": "Python 3",
   "language": "python",
   "name": "python3"
  },
  "language_info": {
   "codemirror_mode": {
    "name": "ipython",
    "version": 3
   },
   "file_extension": ".py",
   "mimetype": "text/x-python",
   "name": "python",
   "nbconvert_exporter": "python",
   "pygments_lexer": "ipython3",
   "version": "3.6.4"
  }
 },
 "nbformat": 4,
 "nbformat_minor": 2
}
