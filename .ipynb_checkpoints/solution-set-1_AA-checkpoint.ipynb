{
 "cells": [
  {
   "cell_type": "markdown",
   "metadata": {},
   "source": [
    "# Intensive Module in Machine Learning\n",
    "# Problem set 1: Linear Regression and Bias-Variance Tradeoff "
   ]
  },
  {
   "cell_type": "markdown",
   "metadata": {},
   "source": [
    "If you are looking at the pdf/html version of this document, start by running the command `jupyter notebook` to launch an interactive notebook and then navigate to the correct folder and open this file `problem-set-1.ipynb`. Import your default packages for manipulating data and plotting:"
   ]
  },
  {
   "cell_type": "code",
   "execution_count": 1,
   "metadata": {},
   "outputs": [],
   "source": [
    "import numpy as np\n",
    "import pandas as pd\n",
    "from matplotlib import pyplot as plt\n",
    "%matplotlib inline "
   ]
  },
  {
   "cell_type": "markdown",
   "metadata": {},
   "source": [
    "Note that the last command allows for convenient inline plotting."
   ]
  },
  {
   "cell_type": "markdown",
   "metadata": {},
   "source": [
    "## 1. Getting started with loading data"
   ]
  },
  {
   "cell_type": "markdown",
   "metadata": {},
   "source": [
    "### 1.1 A `numpy` refresher"
   ]
  },
  {
   "cell_type": "markdown",
   "metadata": {},
   "source": [
    "a) Generate a `numpy` array of dimension 1000 x 2. Use a numpy's random number generator to produce random entries in each of the two columns, one corresponding to weights (real values) the other one corresponding to ages (integers). "
   ]
  },
  {
   "cell_type": "code",
   "execution_count": 2,
   "metadata": {},
   "outputs": [],
   "source": [
    "arr = np.empty(shape=(1000,2))\n",
    "arr[:,0] = np.random.uniform(0,100,1000)\n",
    "arr[:,1] = np.random.randint(0,100,1000)\n"
   ]
  },
  {
   "cell_type": "markdown",
   "metadata": {},
   "source": [
    "b) Calculate the mean of each of the columns, by `apply`-ing the bulidin `mean()` function columnwise to the array. Now write your own function which calculates the mean, `mymean()` and apply it to the array. Insert some `NaN` values into the array. Adapt your function `mymean()` to be able to deal with `NaNs`."
   ]
  },
  {
   "cell_type": "markdown",
   "metadata": {},
   "source": [
    "<span style=\"color:blue\"> Let's save the means in variables $m1$ and $m2$ to compare to the outcome of our own functions.</span>"
   ]
  },
  {
   "cell_type": "code",
   "execution_count": 3,
   "metadata": {},
   "outputs": [
    {
     "name": "stdout",
     "output_type": "stream",
     "text": [
      "0.0\n"
     ]
    }
   ],
   "source": [
    "m1 = np.mean(arr[:,0])\n",
    "m2 = np.mean(arr[:,1])\n",
    "\n",
    "def mymean(x):\n",
    "    sum = 0.0\n",
    "    for ii in range(0,len(x)):\n",
    "        sum += x[ii]\n",
    "    mean = sum/len(x)\n",
    "    return mean\n",
    "    \n",
    "print(m2 - mymean(arr[:,1]))"
   ]
  },
  {
   "cell_type": "markdown",
   "metadata": {},
   "source": [
    "<span style=\"color:blue\"> So far it works, lets add some NaN values to the first column and try both our function and the numpy mean function on it: </span>"
   ]
  },
  {
   "cell_type": "code",
   "execution_count": 4,
   "metadata": {},
   "outputs": [
    {
     "name": "stdout",
     "output_type": "stream",
     "text": [
      "nan\n",
      "nan\n"
     ]
    }
   ],
   "source": [
    "arr[[1,40,150],0] = np.nan\n",
    "\n",
    "print(np.mean(arr[:,0]))\n",
    "print(mymean(arr[:,0]))"
   ]
  },
  {
   "cell_type": "markdown",
   "metadata": {},
   "source": [
    "<span style=\"color:blue\"> Lets correct our function in the sense that it ignores NaN values: </span>"
   ]
  },
  {
   "cell_type": "code",
   "execution_count": 5,
   "metadata": {},
   "outputs": [
    {
     "name": "stdout",
     "output_type": "stream",
     "text": [
      "50.83478352073922\n"
     ]
    }
   ],
   "source": [
    "def mymean(x):\n",
    "    x = x[~np.isnan(x)]  #this removes all NaN entries from x before it is processed in our function\n",
    "    sum = 0.0\n",
    "    for ii in range(0,len(x)):\n",
    "        sum += x[ii]\n",
    "    mean = sum/len(x)\n",
    "    return mean\n",
    "    \n",
    "print(mymean(arr[:,0]))"
   ]
  },
  {
   "cell_type": "markdown",
   "metadata": {},
   "source": [
    "### 1.2 Getting started with `pandas` "
   ]
  },
  {
   "cell_type": "markdown",
   "metadata": {},
   "source": [
    "a) Load the data set `California-Housing.txt` into pandas. Check that all the columns are correctly formated and check for `NaNs`. Inspect the data using e.g. `head()`, perform a descriptive analysis using e.g. `describe()`. Can you complement your descriptive analysis with some insightful plots, e.g. correlation plots?"
   ]
  },
  {
   "cell_type": "code",
   "execution_count": 6,
   "metadata": {
    "scrolled": true
   },
   "outputs": [
    {
     "data": {
      "text/html": [
       "<div>\n",
       "<style scoped>\n",
       "    .dataframe tbody tr th:only-of-type {\n",
       "        vertical-align: middle;\n",
       "    }\n",
       "\n",
       "    .dataframe tbody tr th {\n",
       "        vertical-align: top;\n",
       "    }\n",
       "\n",
       "    .dataframe thead th {\n",
       "        text-align: right;\n",
       "    }\n",
       "</style>\n",
       "<table border=\"1\" class=\"dataframe\">\n",
       "  <thead>\n",
       "    <tr style=\"text-align: right;\">\n",
       "      <th></th>\n",
       "      <th>MedianHouseValue</th>\n",
       "      <th>MedianIncome</th>\n",
       "      <th>HousingMedianAge</th>\n",
       "      <th>AverageNoRooms</th>\n",
       "      <th>AverageNoBedrooms</th>\n",
       "      <th>Population</th>\n",
       "      <th>AverageOccupancy</th>\n",
       "      <th>Latitude</th>\n",
       "      <th>Longitude</th>\n",
       "    </tr>\n",
       "  </thead>\n",
       "  <tbody>\n",
       "    <tr>\n",
       "      <th>0</th>\n",
       "      <td>4.526</td>\n",
       "      <td>8.3252</td>\n",
       "      <td>41</td>\n",
       "      <td>6.984127</td>\n",
       "      <td>1.023810</td>\n",
       "      <td>322</td>\n",
       "      <td>2.555556</td>\n",
       "      <td>37.88</td>\n",
       "      <td>-122.23</td>\n",
       "    </tr>\n",
       "    <tr>\n",
       "      <th>1</th>\n",
       "      <td>3.585</td>\n",
       "      <td>8.3014</td>\n",
       "      <td>21</td>\n",
       "      <td>6.238137</td>\n",
       "      <td>0.971880</td>\n",
       "      <td>2401</td>\n",
       "      <td>2.109842</td>\n",
       "      <td>37.86</td>\n",
       "      <td>-122.22</td>\n",
       "    </tr>\n",
       "    <tr>\n",
       "      <th>2</th>\n",
       "      <td>3.521</td>\n",
       "      <td>7.2574</td>\n",
       "      <td>52</td>\n",
       "      <td>8.288136</td>\n",
       "      <td>1.073446</td>\n",
       "      <td>496</td>\n",
       "      <td>2.802260</td>\n",
       "      <td>37.85</td>\n",
       "      <td>-122.24</td>\n",
       "    </tr>\n",
       "    <tr>\n",
       "      <th>3</th>\n",
       "      <td>3.413</td>\n",
       "      <td>5.6431</td>\n",
       "      <td>52</td>\n",
       "      <td>5.817352</td>\n",
       "      <td>1.073059</td>\n",
       "      <td>558</td>\n",
       "      <td>2.547945</td>\n",
       "      <td>37.85</td>\n",
       "      <td>-122.25</td>\n",
       "    </tr>\n",
       "    <tr>\n",
       "      <th>4</th>\n",
       "      <td>3.422</td>\n",
       "      <td>3.8462</td>\n",
       "      <td>52</td>\n",
       "      <td>6.281853</td>\n",
       "      <td>1.081081</td>\n",
       "      <td>565</td>\n",
       "      <td>2.181467</td>\n",
       "      <td>37.85</td>\n",
       "      <td>-122.25</td>\n",
       "    </tr>\n",
       "  </tbody>\n",
       "</table>\n",
       "</div>"
      ],
      "text/plain": [
       "   MedianHouseValue  MedianIncome  HousingMedianAge  AverageNoRooms  \\\n",
       "0             4.526        8.3252                41        6.984127   \n",
       "1             3.585        8.3014                21        6.238137   \n",
       "2             3.521        7.2574                52        8.288136   \n",
       "3             3.413        5.6431                52        5.817352   \n",
       "4             3.422        3.8462                52        6.281853   \n",
       "\n",
       "   AverageNoBedrooms  Population  AverageOccupancy  Latitude  Longitude  \n",
       "0           1.023810         322          2.555556     37.88    -122.23  \n",
       "1           0.971880        2401          2.109842     37.86    -122.22  \n",
       "2           1.073446         496          2.802260     37.85    -122.24  \n",
       "3           1.073059         558          2.547945     37.85    -122.25  \n",
       "4           1.081081         565          2.181467     37.85    -122.25  "
      ]
     },
     "execution_count": 6,
     "metadata": {},
     "output_type": "execute_result"
    }
   ],
   "source": [
    "data = pd.read_csv('California-Housing.txt', sep=\",\")\n",
    "data.head()"
   ]
  },
  {
   "cell_type": "markdown",
   "metadata": {},
   "source": [
    "<span style=\"color:blue\">  Formatting looks good, lets check for NaNs:</span>"
   ]
  },
  {
   "cell_type": "code",
   "execution_count": 7,
   "metadata": {},
   "outputs": [
    {
     "data": {
      "text/plain": [
       "MedianHouseValue     0\n",
       "MedianIncome         0\n",
       "HousingMedianAge     0\n",
       "AverageNoRooms       0\n",
       "AverageNoBedrooms    0\n",
       "Population           0\n",
       "AverageOccupancy     0\n",
       "Latitude             0\n",
       "Longitude            0\n",
       "dtype: int64"
      ]
     },
     "execution_count": 7,
     "metadata": {},
     "output_type": "execute_result"
    }
   ],
   "source": [
    "data.isnull().sum() #returns number of NaNs per column"
   ]
  },
  {
   "cell_type": "code",
   "execution_count": 8,
   "metadata": {},
   "outputs": [
    {
     "data": {
      "text/html": [
       "<div>\n",
       "<style scoped>\n",
       "    .dataframe tbody tr th:only-of-type {\n",
       "        vertical-align: middle;\n",
       "    }\n",
       "\n",
       "    .dataframe tbody tr th {\n",
       "        vertical-align: top;\n",
       "    }\n",
       "\n",
       "    .dataframe thead th {\n",
       "        text-align: right;\n",
       "    }\n",
       "</style>\n",
       "<table border=\"1\" class=\"dataframe\">\n",
       "  <thead>\n",
       "    <tr style=\"text-align: right;\">\n",
       "      <th></th>\n",
       "      <th>MedianHouseValue</th>\n",
       "      <th>MedianIncome</th>\n",
       "      <th>HousingMedianAge</th>\n",
       "      <th>AverageNoRooms</th>\n",
       "      <th>AverageNoBedrooms</th>\n",
       "      <th>Population</th>\n",
       "      <th>AverageOccupancy</th>\n",
       "      <th>Latitude</th>\n",
       "      <th>Longitude</th>\n",
       "    </tr>\n",
       "  </thead>\n",
       "  <tbody>\n",
       "    <tr>\n",
       "      <th>count</th>\n",
       "      <td>19648.000000</td>\n",
       "      <td>19648.000000</td>\n",
       "      <td>19648.000000</td>\n",
       "      <td>19648.000000</td>\n",
       "      <td>19648.000000</td>\n",
       "      <td>19648.000000</td>\n",
       "      <td>19648.000000</td>\n",
       "      <td>19648.000000</td>\n",
       "      <td>19648.000000</td>\n",
       "    </tr>\n",
       "    <tr>\n",
       "      <th>mean</th>\n",
       "      <td>1.920553</td>\n",
       "      <td>3.676411</td>\n",
       "      <td>28.373066</td>\n",
       "      <td>5.361708</td>\n",
       "      <td>1.096621</td>\n",
       "      <td>1441.368485</td>\n",
       "      <td>3.096560</td>\n",
       "      <td>35.651872</td>\n",
       "      <td>-119.562378</td>\n",
       "    </tr>\n",
       "    <tr>\n",
       "      <th>std</th>\n",
       "      <td>0.971109</td>\n",
       "      <td>1.570602</td>\n",
       "      <td>12.504050</td>\n",
       "      <td>2.293321</td>\n",
       "      <td>0.452136</td>\n",
       "      <td>1144.075196</td>\n",
       "      <td>10.639195</td>\n",
       "      <td>2.150066</td>\n",
       "      <td>2.005760</td>\n",
       "    </tr>\n",
       "    <tr>\n",
       "      <th>min</th>\n",
       "      <td>0.149990</td>\n",
       "      <td>0.499900</td>\n",
       "      <td>1.000000</td>\n",
       "      <td>0.846154</td>\n",
       "      <td>0.333333</td>\n",
       "      <td>3.000000</td>\n",
       "      <td>0.692308</td>\n",
       "      <td>32.540000</td>\n",
       "      <td>-124.350000</td>\n",
       "    </tr>\n",
       "    <tr>\n",
       "      <th>25%</th>\n",
       "      <td>1.164750</td>\n",
       "      <td>2.526300</td>\n",
       "      <td>18.000000</td>\n",
       "      <td>4.416667</td>\n",
       "      <td>1.005882</td>\n",
       "      <td>796.000000</td>\n",
       "      <td>2.446614</td>\n",
       "      <td>33.930000</td>\n",
       "      <td>-121.760000</td>\n",
       "    </tr>\n",
       "    <tr>\n",
       "      <th>50%</th>\n",
       "      <td>1.736000</td>\n",
       "      <td>3.449050</td>\n",
       "      <td>28.000000</td>\n",
       "      <td>5.185730</td>\n",
       "      <td>1.048576</td>\n",
       "      <td>1179.000000</td>\n",
       "      <td>2.837779</td>\n",
       "      <td>34.270000</td>\n",
       "      <td>-118.500000</td>\n",
       "    </tr>\n",
       "    <tr>\n",
       "      <th>75%</th>\n",
       "      <td>2.479000</td>\n",
       "      <td>4.582500</td>\n",
       "      <td>37.000000</td>\n",
       "      <td>5.971083</td>\n",
       "      <td>1.099222</td>\n",
       "      <td>1746.250000</td>\n",
       "      <td>3.306021</td>\n",
       "      <td>37.730000</td>\n",
       "      <td>-117.990000</td>\n",
       "    </tr>\n",
       "    <tr>\n",
       "      <th>max</th>\n",
       "      <td>4.991000</td>\n",
       "      <td>15.000100</td>\n",
       "      <td>52.000000</td>\n",
       "      <td>132.533333</td>\n",
       "      <td>34.066667</td>\n",
       "      <td>35682.000000</td>\n",
       "      <td>1243.333333</td>\n",
       "      <td>41.950000</td>\n",
       "      <td>-114.310000</td>\n",
       "    </tr>\n",
       "  </tbody>\n",
       "</table>\n",
       "</div>"
      ],
      "text/plain": [
       "       MedianHouseValue  MedianIncome  HousingMedianAge  AverageNoRooms  \\\n",
       "count      19648.000000  19648.000000      19648.000000    19648.000000   \n",
       "mean           1.920553      3.676411         28.373066        5.361708   \n",
       "std            0.971109      1.570602         12.504050        2.293321   \n",
       "min            0.149990      0.499900          1.000000        0.846154   \n",
       "25%            1.164750      2.526300         18.000000        4.416667   \n",
       "50%            1.736000      3.449050         28.000000        5.185730   \n",
       "75%            2.479000      4.582500         37.000000        5.971083   \n",
       "max            4.991000     15.000100         52.000000      132.533333   \n",
       "\n",
       "       AverageNoBedrooms    Population  AverageOccupancy      Latitude  \\\n",
       "count       19648.000000  19648.000000      19648.000000  19648.000000   \n",
       "mean            1.096621   1441.368485          3.096560     35.651872   \n",
       "std             0.452136   1144.075196         10.639195      2.150066   \n",
       "min             0.333333      3.000000          0.692308     32.540000   \n",
       "25%             1.005882    796.000000          2.446614     33.930000   \n",
       "50%             1.048576   1179.000000          2.837779     34.270000   \n",
       "75%             1.099222   1746.250000          3.306021     37.730000   \n",
       "max            34.066667  35682.000000       1243.333333     41.950000   \n",
       "\n",
       "          Longitude  \n",
       "count  19648.000000  \n",
       "mean    -119.562378  \n",
       "std        2.005760  \n",
       "min     -124.350000  \n",
       "25%     -121.760000  \n",
       "50%     -118.500000  \n",
       "75%     -117.990000  \n",
       "max     -114.310000  "
      ]
     },
     "execution_count": 8,
     "metadata": {},
     "output_type": "execute_result"
    }
   ],
   "source": [
    "data.describe()"
   ]
  },
  {
   "cell_type": "markdown",
   "metadata": {},
   "source": [
    "<span style=\"color:blue\"> Let's plot some interesting correlations (non-exhaustive):</span>"
   ]
  },
  {
   "cell_type": "code",
   "execution_count": 9,
   "metadata": {},
   "outputs": [
    {
     "data": {
      "image/png": "[encoded data removed]",
      "text/plain": [
       "<matplotlib.figure.Figure at 0x108e0f8d0>"
      ]
     },
     "metadata": {
      "needs_background": "light"
     },
     "output_type": "display_data"
    }
   ],
   "source": [
    "fig = plt.figure(figsize=(12,8))\n",
    "\n",
    "plt.subplot(311)\n",
    "plt.scatter(data['MedianIncome'],data['MedianHouseValue'])\n",
    "\n",
    "plt.subplot(312)\n",
    "plt.scatter(data['AverageNoRooms'],data['MedianHouseValue'])\n",
    "\n",
    "plt.subplot(313)\n",
    "plt.scatter(data['Population'],data['MedianHouseValue'])\n",
    "\n",
    "plt.show()"
   ]
  },
  {
   "cell_type": "markdown",
   "metadata": {},
   "source": [
    "b) Now load a different data set, `Spam_Data.txt`. It contains a response variable, indicating whether an email was spam or not and a number of NLP features extracted from the emails text. For later work it will be useful to standardise the features by transforming them to be mean zero and variance 1. Write your own function which does that. Look up the buildin function in standard packages such as `sklearn`."
   ]
  },
  {
   "cell_type": "code",
   "execution_count": 10,
   "metadata": {},
   "outputs": [
    {
     "data": {
      "text/html": [
       "<div>\n",
       "<style scoped>\n",
       "    .dataframe tbody tr th:only-of-type {\n",
       "        vertical-align: middle;\n",
       "    }\n",
       "\n",
       "    .dataframe tbody tr th {\n",
       "        vertical-align: top;\n",
       "    }\n",
       "\n",
       "    .dataframe thead th {\n",
       "        text-align: right;\n",
       "    }\n",
       "</style>\n",
       "<table border=\"1\" class=\"dataframe\">\n",
       "  <thead>\n",
       "    <tr style=\"text-align: right;\">\n",
       "      <th></th>\n",
       "      <th>0</th>\n",
       "      <th>1</th>\n",
       "      <th>2</th>\n",
       "      <th>3</th>\n",
       "      <th>4</th>\n",
       "      <th>5</th>\n",
       "      <th>6</th>\n",
       "      <th>7</th>\n",
       "      <th>8</th>\n",
       "      <th>9</th>\n",
       "      <th>...</th>\n",
       "      <th>48</th>\n",
       "      <th>49</th>\n",
       "      <th>50</th>\n",
       "      <th>51</th>\n",
       "      <th>52</th>\n",
       "      <th>53</th>\n",
       "      <th>54</th>\n",
       "      <th>55</th>\n",
       "      <th>56</th>\n",
       "      <th>57</th>\n",
       "    </tr>\n",
       "  </thead>\n",
       "  <tbody>\n",
       "    <tr>\n",
       "      <th>0</th>\n",
       "      <td>0.00</td>\n",
       "      <td>0.64</td>\n",
       "      <td>0.64</td>\n",
       "      <td>0.0</td>\n",
       "      <td>0.32</td>\n",
       "      <td>0.00</td>\n",
       "      <td>0.00</td>\n",
       "      <td>0.00</td>\n",
       "      <td>0.00</td>\n",
       "      <td>0.00</td>\n",
       "      <td>...</td>\n",
       "      <td>0.00</td>\n",
       "      <td>0.000</td>\n",
       "      <td>0.0</td>\n",
       "      <td>0.778</td>\n",
       "      <td>0.000</td>\n",
       "      <td>0.000</td>\n",
       "      <td>3.756</td>\n",
       "      <td>61</td>\n",
       "      <td>278</td>\n",
       "      <td>1</td>\n",
       "    </tr>\n",
       "    <tr>\n",
       "      <th>1</th>\n",
       "      <td>0.21</td>\n",
       "      <td>0.28</td>\n",
       "      <td>0.50</td>\n",
       "      <td>0.0</td>\n",
       "      <td>0.14</td>\n",
       "      <td>0.28</td>\n",
       "      <td>0.21</td>\n",
       "      <td>0.07</td>\n",
       "      <td>0.00</td>\n",
       "      <td>0.94</td>\n",
       "      <td>...</td>\n",
       "      <td>0.00</td>\n",
       "      <td>0.132</td>\n",
       "      <td>0.0</td>\n",
       "      <td>0.372</td>\n",
       "      <td>0.180</td>\n",
       "      <td>0.048</td>\n",
       "      <td>5.114</td>\n",
       "      <td>101</td>\n",
       "      <td>1028</td>\n",
       "      <td>1</td>\n",
       "    </tr>\n",
       "    <tr>\n",
       "      <th>2</th>\n",
       "      <td>0.06</td>\n",
       "      <td>0.00</td>\n",
       "      <td>0.71</td>\n",
       "      <td>0.0</td>\n",
       "      <td>1.23</td>\n",
       "      <td>0.19</td>\n",
       "      <td>0.19</td>\n",
       "      <td>0.12</td>\n",
       "      <td>0.64</td>\n",
       "      <td>0.25</td>\n",
       "      <td>...</td>\n",
       "      <td>0.01</td>\n",
       "      <td>0.143</td>\n",
       "      <td>0.0</td>\n",
       "      <td>0.276</td>\n",
       "      <td>0.184</td>\n",
       "      <td>0.010</td>\n",
       "      <td>9.821</td>\n",
       "      <td>485</td>\n",
       "      <td>2259</td>\n",
       "      <td>1</td>\n",
       "    </tr>\n",
       "    <tr>\n",
       "      <th>3</th>\n",
       "      <td>0.00</td>\n",
       "      <td>0.00</td>\n",
       "      <td>0.00</td>\n",
       "      <td>0.0</td>\n",
       "      <td>0.63</td>\n",
       "      <td>0.00</td>\n",
       "      <td>0.31</td>\n",
       "      <td>0.63</td>\n",
       "      <td>0.31</td>\n",
       "      <td>0.63</td>\n",
       "      <td>...</td>\n",
       "      <td>0.00</td>\n",
       "      <td>0.137</td>\n",
       "      <td>0.0</td>\n",
       "      <td>0.137</td>\n",
       "      <td>0.000</td>\n",
       "      <td>0.000</td>\n",
       "      <td>3.537</td>\n",
       "      <td>40</td>\n",
       "      <td>191</td>\n",
       "      <td>1</td>\n",
       "    </tr>\n",
       "    <tr>\n",
       "      <th>4</th>\n",
       "      <td>0.00</td>\n",
       "      <td>0.00</td>\n",
       "      <td>0.00</td>\n",
       "      <td>0.0</td>\n",
       "      <td>0.63</td>\n",
       "      <td>0.00</td>\n",
       "      <td>0.31</td>\n",
       "      <td>0.63</td>\n",
       "      <td>0.31</td>\n",
       "      <td>0.63</td>\n",
       "      <td>...</td>\n",
       "      <td>0.00</td>\n",
       "      <td>0.135</td>\n",
       "      <td>0.0</td>\n",
       "      <td>0.135</td>\n",
       "      <td>0.000</td>\n",
       "      <td>0.000</td>\n",
       "      <td>3.537</td>\n",
       "      <td>40</td>\n",
       "      <td>191</td>\n",
       "      <td>1</td>\n",
       "    </tr>\n",
       "  </tbody>\n",
       "</table>\n",
       "<p>5 rows × 58 columns</p>\n",
       "</div>"
      ],
      "text/plain": [
       "     0     1     2    3     4     5     6     7     8     9  ...    48     49  \\\n",
       "0  0.00  0.64  0.64  0.0  0.32  0.00  0.00  0.00  0.00  0.00 ...  0.00  0.000   \n",
       "1  0.21  0.28  0.50  0.0  0.14  0.28  0.21  0.07  0.00  0.94 ...  0.00  0.132   \n",
       "2  0.06  0.00  0.71  0.0  1.23  0.19  0.19  0.12  0.64  0.25 ...  0.01  0.143   \n",
       "3  0.00  0.00  0.00  0.0  0.63  0.00  0.31  0.63  0.31  0.63 ...  0.00  0.137   \n",
       "4  0.00  0.00  0.00  0.0  0.63  0.00  0.31  0.63  0.31  0.63 ...  0.00  0.135   \n",
       "\n",
       "    50     51     52     53     54   55    56  57  \n",
       "0  0.0  0.778  0.000  0.000  3.756   61   278   1  \n",
       "1  0.0  0.372  0.180  0.048  5.114  101  1028   1  \n",
       "2  0.0  0.276  0.184  0.010  9.821  485  2259   1  \n",
       "3  0.0  0.137  0.000  0.000  3.537   40   191   1  \n",
       "4  0.0  0.135  0.000  0.000  3.537   40   191   1  \n",
       "\n",
       "[5 rows x 58 columns]"
      ]
     },
     "execution_count": 10,
     "metadata": {},
     "output_type": "execute_result"
    }
   ],
   "source": [
    "data = pd.read_csv('Spam_Data.txt', sep=\",\", header=None)\n",
    "data.head()"
   ]
  },
  {
   "cell_type": "code",
   "execution_count": 11,
   "metadata": {
    "scrolled": true
   },
   "outputs": [
    {
     "data": {
      "text/html": [
       "<div>\n",
       "<style scoped>\n",
       "    .dataframe tbody tr th:only-of-type {\n",
       "        vertical-align: middle;\n",
       "    }\n",
       "\n",
       "    .dataframe tbody tr th {\n",
       "        vertical-align: top;\n",
       "    }\n",
       "\n",
       "    .dataframe thead th {\n",
       "        text-align: right;\n",
       "    }\n",
       "</style>\n",
       "<table border=\"1\" class=\"dataframe\">\n",
       "  <thead>\n",
       "    <tr style=\"text-align: right;\">\n",
       "      <th></th>\n",
       "      <th>0</th>\n",
       "      <th>1</th>\n",
       "      <th>2</th>\n",
       "      <th>3</th>\n",
       "      <th>4</th>\n",
       "      <th>5</th>\n",
       "      <th>6</th>\n",
       "      <th>7</th>\n",
       "      <th>8</th>\n",
       "      <th>9</th>\n",
       "      <th>...</th>\n",
       "      <th>47</th>\n",
       "      <th>48</th>\n",
       "      <th>49</th>\n",
       "      <th>50</th>\n",
       "      <th>51</th>\n",
       "      <th>52</th>\n",
       "      <th>53</th>\n",
       "      <th>54</th>\n",
       "      <th>55</th>\n",
       "      <th>56</th>\n",
       "    </tr>\n",
       "  </thead>\n",
       "  <tbody>\n",
       "    <tr>\n",
       "      <th>0</th>\n",
       "      <td>-0.342396</td>\n",
       "      <td>0.330849</td>\n",
       "      <td>0.712781</td>\n",
       "      <td>-0.046894</td>\n",
       "      <td>0.011563</td>\n",
       "      <td>-0.350228</td>\n",
       "      <td>-0.291762</td>\n",
       "      <td>-0.262533</td>\n",
       "      <td>-0.323267</td>\n",
       "      <td>-0.371324</td>\n",
       "      <td>...</td>\n",
       "      <td>-0.111534</td>\n",
       "      <td>-0.158436</td>\n",
       "      <td>-0.514251</td>\n",
       "      <td>-0.155181</td>\n",
       "      <td>0.623939</td>\n",
       "      <td>-0.308321</td>\n",
       "      <td>-0.103037</td>\n",
       "      <td>-0.045242</td>\n",
       "      <td>0.045293</td>\n",
       "      <td>-0.008723</td>\n",
       "    </tr>\n",
       "    <tr>\n",
       "      <th>1</th>\n",
       "      <td>0.345322</td>\n",
       "      <td>0.051904</td>\n",
       "      <td>0.435082</td>\n",
       "      <td>-0.046894</td>\n",
       "      <td>-0.256089</td>\n",
       "      <td>0.672326</td>\n",
       "      <td>0.244717</td>\n",
       "      <td>-0.088001</td>\n",
       "      <td>-0.323267</td>\n",
       "      <td>1.086593</td>\n",
       "      <td>...</td>\n",
       "      <td>-0.111534</td>\n",
       "      <td>-0.158436</td>\n",
       "      <td>-0.026004</td>\n",
       "      <td>-0.155181</td>\n",
       "      <td>0.126189</td>\n",
       "      <td>0.423737</td>\n",
       "      <td>0.008762</td>\n",
       "      <td>-0.002443</td>\n",
       "      <td>0.250536</td>\n",
       "      <td>1.228191</td>\n",
       "    </tr>\n",
       "    <tr>\n",
       "      <th>2</th>\n",
       "      <td>-0.145906</td>\n",
       "      <td>-0.165054</td>\n",
       "      <td>0.851631</td>\n",
       "      <td>-0.046894</td>\n",
       "      <td>1.364698</td>\n",
       "      <td>0.343648</td>\n",
       "      <td>0.193623</td>\n",
       "      <td>0.036666</td>\n",
       "      <td>1.973802</td>\n",
       "      <td>0.016420</td>\n",
       "      <td>...</td>\n",
       "      <td>-0.111534</td>\n",
       "      <td>-0.117364</td>\n",
       "      <td>0.014683</td>\n",
       "      <td>-0.155181</td>\n",
       "      <td>0.008495</td>\n",
       "      <td>0.440005</td>\n",
       "      <td>-0.079746</td>\n",
       "      <td>0.145905</td>\n",
       "      <td>2.220865</td>\n",
       "      <td>3.258378</td>\n",
       "    </tr>\n",
       "    <tr>\n",
       "      <th>3</th>\n",
       "      <td>-0.342396</td>\n",
       "      <td>-0.165054</td>\n",
       "      <td>-0.556700</td>\n",
       "      <td>-0.046894</td>\n",
       "      <td>0.472521</td>\n",
       "      <td>-0.350228</td>\n",
       "      <td>0.500183</td>\n",
       "      <td>1.308259</td>\n",
       "      <td>0.789376</td>\n",
       "      <td>0.605791</td>\n",
       "      <td>...</td>\n",
       "      <td>-0.111534</td>\n",
       "      <td>-0.158436</td>\n",
       "      <td>-0.007510</td>\n",
       "      <td>-0.155181</td>\n",
       "      <td>-0.161917</td>\n",
       "      <td>-0.308321</td>\n",
       "      <td>-0.103037</td>\n",
       "      <td>-0.052144</td>\n",
       "      <td>-0.062459</td>\n",
       "      <td>-0.152205</td>\n",
       "    </tr>\n",
       "    <tr>\n",
       "      <th>4</th>\n",
       "      <td>-0.342396</td>\n",
       "      <td>-0.165054</td>\n",
       "      <td>-0.556700</td>\n",
       "      <td>-0.046894</td>\n",
       "      <td>0.472521</td>\n",
       "      <td>-0.350228</td>\n",
       "      <td>0.500183</td>\n",
       "      <td>1.308259</td>\n",
       "      <td>0.789376</td>\n",
       "      <td>0.605791</td>\n",
       "      <td>...</td>\n",
       "      <td>-0.111534</td>\n",
       "      <td>-0.158436</td>\n",
       "      <td>-0.014908</td>\n",
       "      <td>-0.155181</td>\n",
       "      <td>-0.164369</td>\n",
       "      <td>-0.308321</td>\n",
       "      <td>-0.103037</td>\n",
       "      <td>-0.052144</td>\n",
       "      <td>-0.062459</td>\n",
       "      <td>-0.152205</td>\n",
       "    </tr>\n",
       "  </tbody>\n",
       "</table>\n",
       "<p>5 rows × 57 columns</p>\n",
       "</div>"
      ],
      "text/plain": [
       "         0         1         2         3         4         5         6   \\\n",
       "0 -0.342396  0.330849  0.712781 -0.046894  0.011563 -0.350228 -0.291762   \n",
       "1  0.345322  0.051904  0.435082 -0.046894 -0.256089  0.672326  0.244717   \n",
       "2 -0.145906 -0.165054  0.851631 -0.046894  1.364698  0.343648  0.193623   \n",
       "3 -0.342396 -0.165054 -0.556700 -0.046894  0.472521 -0.350228  0.500183   \n",
       "4 -0.342396 -0.165054 -0.556700 -0.046894  0.472521 -0.350228  0.500183   \n",
       "\n",
       "         7         8         9     ...           47        48        49  \\\n",
       "0 -0.262533 -0.323267 -0.371324    ...    -0.111534 -0.158436 -0.514251   \n",
       "1 -0.088001 -0.323267  1.086593    ...    -0.111534 -0.158436 -0.026004   \n",
       "2  0.036666  1.973802  0.016420    ...    -0.111534 -0.117364  0.014683   \n",
       "3  1.308259  0.789376  0.605791    ...    -0.111534 -0.158436 -0.007510   \n",
       "4  1.308259  0.789376  0.605791    ...    -0.111534 -0.158436 -0.014908   \n",
       "\n",
       "         50        51        52        53        54        55        56  \n",
       "0 -0.155181  0.623939 -0.308321 -0.103037 -0.045242  0.045293 -0.008723  \n",
       "1 -0.155181  0.126189  0.423737  0.008762 -0.002443  0.250536  1.228191  \n",
       "2 -0.155181  0.008495  0.440005 -0.079746  0.145905  2.220865  3.258378  \n",
       "3 -0.155181 -0.161917 -0.308321 -0.103037 -0.052144 -0.062459 -0.152205  \n",
       "4 -0.155181 -0.164369 -0.308321 -0.103037 -0.052144 -0.062459 -0.152205  \n",
       "\n",
       "[5 rows x 57 columns]"
      ]
     },
     "execution_count": 11,
     "metadata": {},
     "output_type": "execute_result"
    }
   ],
   "source": [
    "def standardise(X):\n",
    "    standardised_data = X.copy()\n",
    "    for feature_name in X.columns:\n",
    "        mean = X[feature_name].mean()\n",
    "        std = X[feature_name].std()\n",
    "        standardised_data[feature_name] = (X[feature_name] - mean) / std\n",
    "    return standardised_data\n",
    "\n",
    "\n",
    "\n",
    "normalized_features = standardise(data.loc[:, range(0,57)])\n",
    "normalized_features.head()   "
   ]
  },
  {
   "cell_type": "code",
   "execution_count": 12,
   "metadata": {
    "scrolled": true
   },
   "outputs": [
    {
     "data": {
      "text/html": [
       "<div>\n",
       "<style scoped>\n",
       "    .dataframe tbody tr th:only-of-type {\n",
       "        vertical-align: middle;\n",
       "    }\n",
       "\n",
       "    .dataframe tbody tr th {\n",
       "        vertical-align: top;\n",
       "    }\n",
       "\n",
       "    .dataframe thead th {\n",
       "        text-align: right;\n",
       "    }\n",
       "</style>\n",
       "<table border=\"1\" class=\"dataframe\">\n",
       "  <thead>\n",
       "    <tr style=\"text-align: right;\">\n",
       "      <th></th>\n",
       "      <th>0</th>\n",
       "      <th>1</th>\n",
       "      <th>2</th>\n",
       "      <th>3</th>\n",
       "      <th>4</th>\n",
       "      <th>5</th>\n",
       "      <th>6</th>\n",
       "      <th>7</th>\n",
       "      <th>8</th>\n",
       "      <th>9</th>\n",
       "      <th>...</th>\n",
       "      <th>47</th>\n",
       "      <th>48</th>\n",
       "      <th>49</th>\n",
       "      <th>50</th>\n",
       "      <th>51</th>\n",
       "      <th>52</th>\n",
       "      <th>53</th>\n",
       "      <th>54</th>\n",
       "      <th>55</th>\n",
       "      <th>56</th>\n",
       "    </tr>\n",
       "  </thead>\n",
       "  <tbody>\n",
       "    <tr>\n",
       "      <th>0</th>\n",
       "      <td>-0.342434</td>\n",
       "      <td>0.330885</td>\n",
       "      <td>0.712859</td>\n",
       "      <td>-0.0469</td>\n",
       "      <td>0.011565</td>\n",
       "      <td>-0.350266</td>\n",
       "      <td>-0.291794</td>\n",
       "      <td>-0.262562</td>\n",
       "      <td>-0.323302</td>\n",
       "      <td>-0.371364</td>\n",
       "      <td>...</td>\n",
       "      <td>-0.111546</td>\n",
       "      <td>-0.158453</td>\n",
       "      <td>-0.514307</td>\n",
       "      <td>-0.155198</td>\n",
       "      <td>0.624007</td>\n",
       "      <td>-0.308355</td>\n",
       "      <td>-0.103048</td>\n",
       "      <td>-0.045247</td>\n",
       "      <td>0.045298</td>\n",
       "      <td>-0.008724</td>\n",
       "    </tr>\n",
       "    <tr>\n",
       "      <th>1</th>\n",
       "      <td>0.345359</td>\n",
       "      <td>0.051909</td>\n",
       "      <td>0.435130</td>\n",
       "      <td>-0.0469</td>\n",
       "      <td>-0.256117</td>\n",
       "      <td>0.672399</td>\n",
       "      <td>0.244743</td>\n",
       "      <td>-0.088010</td>\n",
       "      <td>-0.323302</td>\n",
       "      <td>1.086711</td>\n",
       "      <td>...</td>\n",
       "      <td>-0.111546</td>\n",
       "      <td>-0.158453</td>\n",
       "      <td>-0.026007</td>\n",
       "      <td>-0.155198</td>\n",
       "      <td>0.126203</td>\n",
       "      <td>0.423783</td>\n",
       "      <td>0.008763</td>\n",
       "      <td>-0.002443</td>\n",
       "      <td>0.250563</td>\n",
       "      <td>1.228324</td>\n",
       "    </tr>\n",
       "    <tr>\n",
       "      <th>2</th>\n",
       "      <td>-0.145921</td>\n",
       "      <td>-0.165072</td>\n",
       "      <td>0.851723</td>\n",
       "      <td>-0.0469</td>\n",
       "      <td>1.364846</td>\n",
       "      <td>0.343685</td>\n",
       "      <td>0.193644</td>\n",
       "      <td>0.036670</td>\n",
       "      <td>1.974017</td>\n",
       "      <td>0.016422</td>\n",
       "      <td>...</td>\n",
       "      <td>-0.111546</td>\n",
       "      <td>-0.117376</td>\n",
       "      <td>0.014684</td>\n",
       "      <td>-0.155198</td>\n",
       "      <td>0.008496</td>\n",
       "      <td>0.440053</td>\n",
       "      <td>-0.079754</td>\n",
       "      <td>0.145921</td>\n",
       "      <td>2.221106</td>\n",
       "      <td>3.258733</td>\n",
       "    </tr>\n",
       "    <tr>\n",
       "      <th>3</th>\n",
       "      <td>-0.342434</td>\n",
       "      <td>-0.165072</td>\n",
       "      <td>-0.556761</td>\n",
       "      <td>-0.0469</td>\n",
       "      <td>0.472573</td>\n",
       "      <td>-0.350266</td>\n",
       "      <td>0.500237</td>\n",
       "      <td>1.308402</td>\n",
       "      <td>0.789462</td>\n",
       "      <td>0.605857</td>\n",
       "      <td>...</td>\n",
       "      <td>-0.111546</td>\n",
       "      <td>-0.158453</td>\n",
       "      <td>-0.007511</td>\n",
       "      <td>-0.155198</td>\n",
       "      <td>-0.161934</td>\n",
       "      <td>-0.308355</td>\n",
       "      <td>-0.103048</td>\n",
       "      <td>-0.052150</td>\n",
       "      <td>-0.062466</td>\n",
       "      <td>-0.152222</td>\n",
       "    </tr>\n",
       "    <tr>\n",
       "      <th>4</th>\n",
       "      <td>-0.342434</td>\n",
       "      <td>-0.165072</td>\n",
       "      <td>-0.556761</td>\n",
       "      <td>-0.0469</td>\n",
       "      <td>0.472573</td>\n",
       "      <td>-0.350266</td>\n",
       "      <td>0.500237</td>\n",
       "      <td>1.308402</td>\n",
       "      <td>0.789462</td>\n",
       "      <td>0.605857</td>\n",
       "      <td>...</td>\n",
       "      <td>-0.111546</td>\n",
       "      <td>-0.158453</td>\n",
       "      <td>-0.014910</td>\n",
       "      <td>-0.155198</td>\n",
       "      <td>-0.164387</td>\n",
       "      <td>-0.308355</td>\n",
       "      <td>-0.103048</td>\n",
       "      <td>-0.052150</td>\n",
       "      <td>-0.062466</td>\n",
       "      <td>-0.152222</td>\n",
       "    </tr>\n",
       "  </tbody>\n",
       "</table>\n",
       "<p>5 rows × 57 columns</p>\n",
       "</div>"
      ],
      "text/plain": [
       "         0         1         2       3         4         5         6   \\\n",
       "0 -0.342434  0.330885  0.712859 -0.0469  0.011565 -0.350266 -0.291794   \n",
       "1  0.345359  0.051909  0.435130 -0.0469 -0.256117  0.672399  0.244743   \n",
       "2 -0.145921 -0.165072  0.851723 -0.0469  1.364846  0.343685  0.193644   \n",
       "3 -0.342434 -0.165072 -0.556761 -0.0469  0.472573 -0.350266  0.500237   \n",
       "4 -0.342434 -0.165072 -0.556761 -0.0469  0.472573 -0.350266  0.500237   \n",
       "\n",
       "         7         8         9     ...           47        48        49  \\\n",
       "0 -0.262562 -0.323302 -0.371364    ...    -0.111546 -0.158453 -0.514307   \n",
       "1 -0.088010 -0.323302  1.086711    ...    -0.111546 -0.158453 -0.026007   \n",
       "2  0.036670  1.974017  0.016422    ...    -0.111546 -0.117376  0.014684   \n",
       "3  1.308402  0.789462  0.605857    ...    -0.111546 -0.158453 -0.007511   \n",
       "4  1.308402  0.789462  0.605857    ...    -0.111546 -0.158453 -0.014910   \n",
       "\n",
       "         50        51        52        53        54        55        56  \n",
       "0 -0.155198  0.624007 -0.308355 -0.103048 -0.045247  0.045298 -0.008724  \n",
       "1 -0.155198  0.126203  0.423783  0.008763 -0.002443  0.250563  1.228324  \n",
       "2 -0.155198  0.008496  0.440053 -0.079754  0.145921  2.221106  3.258733  \n",
       "3 -0.155198 -0.161934 -0.308355 -0.103048 -0.052150 -0.062466 -0.152222  \n",
       "4 -0.155198 -0.164387 -0.308355 -0.103048 -0.052150 -0.062466 -0.152222  \n",
       "\n",
       "[5 rows x 57 columns]"
      ]
     },
     "execution_count": 12,
     "metadata": {},
     "output_type": "execute_result"
    }
   ],
   "source": [
    "from sklearn import preprocessing\n",
    "normalised_features = preprocessing.scale(data.loc[:, range(0,57)])\n",
    "normalised_features = pd.DataFrame(data=normalised_features)\n",
    "normalised_features.head()"
   ]
  },
  {
   "cell_type": "markdown",
   "metadata": {},
   "source": [
    "## 2. Linear regression"
   ]
  },
  {
   "cell_type": "markdown",
   "metadata": {},
   "source": [
    "a) Familiarise yourself with the standard `LinearRegression` function in `sklearn`. This will be useful as the basic syntax will be the same for more complicated statistical models such as `SVM`. In addition, also have a look at the `OLS` (ordinary least squares) function in `statsmodels`. The latter mimics the `lm` function from `R` and provides more information on goodness of fit, such as $R^2$, p-values etc."
   ]
  },
  {
   "cell_type": "markdown",
   "metadata": {},
   "source": [
    "<span style=\"color:blue\">  Just google \"LinearRegression sklearn\" etc. Results will be for example https://sklearn.org/modules/linear_model.html#ordinary-least-squares and https://www.statsmodels.org/dev/generated/statsmodels.regression.linear_model.OLS.html  </span>"
   ]
  },
  {
   "cell_type": "markdown",
   "metadata": {},
   "source": [
    "b) Let's now work with the data set `California-Housing.txt`. Load the data again and perform a linear regression (using `statsmodels`) on `MedianHouseValue` as a function of `MedianIncome`. Comment on $R^2$ and p-values."
   ]
  },
  {
   "cell_type": "code",
   "execution_count": 14,
   "metadata": {},
   "outputs": [
    {
     "name": "stdout",
     "output_type": "stream",
     "text": [
      "                            OLS Regression Results                            \n",
      "==============================================================================\n",
      "Dep. Variable:       MedianHouseValue   R-squared:                       0.875\n",
      "Model:                            OLS   Adj. R-squared:                  0.875\n",
      "Method:                 Least Squares   F-statistic:                 1.373e+05\n",
      "Date:                Wed, 21 Nov 2018   Prob (F-statistic):               0.00\n",
      "Time:                        06:55:19   Log-Likelihood:                -22526.\n",
      "No. Observations:               19648   AIC:                         4.505e+04\n",
      "Df Residuals:                   19647   BIC:                         4.506e+04\n",
      "Df Model:                           1                                         \n",
      "Covariance Type:            nonrobust                                         \n",
      "================================================================================\n",
      "                   coef    std err          t      P>|t|      [0.025      0.975]\n",
      "--------------------------------------------------------------------------------\n",
      "MedianIncome     0.5035      0.001    370.493      0.000       0.501       0.506\n",
      "==============================================================================\n",
      "Omnibus:                     2771.634   Durbin-Watson:                   0.751\n",
      "Prob(Omnibus):                  0.000   Jarque-Bera (JB):             6145.172\n",
      "Skew:                           0.841   Prob(JB):                         0.00\n",
      "Kurtosis:                       5.163   Cond. No.                         1.00\n",
      "==============================================================================\n",
      "\n",
      "Warnings:\n",
      "[1] Standard Errors assume that the covariance matrix of the errors is correctly specified.\n"
     ]
    }
   ],
   "source": [
    "import statsmodels.api as sm\n",
    "\n",
    "data = pd.read_csv('California-Housing.txt', sep=\",\")\n",
    "model = sm.OLS(data['MedianHouseValue'],data['MedianIncome'])\n",
    "results = model.fit()\n",
    "print(results.summary())"
   ]
  },
  {
   "cell_type": "markdown",
   "metadata": {},
   "source": [
    "<span style=\"color:blue\"> P value is so small (0.0) that null-hypothesis of regression coefficient equalling 0 can be rejected. At the same time $R^2$ is pretty high, so median income seems to explain median house value rather well. </span>"
   ]
  },
  {
   "cell_type": "markdown",
   "metadata": {},
   "source": [
    "c) Plot the data points for `MedianHouseValue` as a function of `MedianIncome` and add the regression line to your plot."
   ]
  },
  {
   "cell_type": "code",
   "execution_count": 15,
   "metadata": {},
   "outputs": [
    {
     "data": {
      "image/png": "[encoded data removed]",
      "text/plain": [
       "<matplotlib.figure.Figure at 0x1a14a57ef0>"
      ]
     },
     "metadata": {
      "needs_background": "light"
     },
     "output_type": "display_data"
    }
   ],
   "source": [
    "plt.plot(data['MedianIncome'],data['MedianHouseValue'], 'bo', label=\"Data points\")\n",
    "plt.plot(data['MedianIncome'], results.fittedvalues, 'r-', label=\"Regression line\")\n",
    "plt.show()"
   ]
  },
  {
   "cell_type": "markdown",
   "metadata": {},
   "source": [
    "d) Use the `predict` function to predict `MedianHouseValue` from `MedianIncome`. Calculate the root mean squared error."
   ]
  },
  {
   "cell_type": "code",
   "execution_count": 16,
   "metadata": {},
   "outputs": [
    {
     "name": "stdout",
     "output_type": "stream",
     "text": [
      "0.7615210776403631\n"
     ]
    }
   ],
   "source": [
    "ypred = results.predict(data['MedianIncome'])\n",
    "RMSE = np.linalg.norm(ypred - data['MedianHouseValue'])/np.sqrt(len(ypred))\n",
    "print(RMSE)"
   ]
  },
  {
   "cell_type": "markdown",
   "metadata": {},
   "source": [
    "e) Now regress `MedianHouseValue` against `MedianIncome` and `AverageNoRooms`. Did the fit improve? Are both predictors significant?"
   ]
  },
  {
   "cell_type": "code",
   "execution_count": 17,
   "metadata": {},
   "outputs": [
    {
     "name": "stdout",
     "output_type": "stream",
     "text": [
      "                            OLS Regression Results                            \n",
      "==============================================================================\n",
      "Dep. Variable:       MedianHouseValue   R-squared:                       0.875\n",
      "Model:                            OLS   Adj. R-squared:                  0.875\n",
      "Method:                 Least Squares   F-statistic:                 6.865e+04\n",
      "Date:                Wed, 21 Nov 2018   Prob (F-statistic):               0.00\n",
      "Time:                        06:55:25   Log-Likelihood:                -22524.\n",
      "No. Observations:               19648   AIC:                         4.505e+04\n",
      "Df Residuals:                   19646   BIC:                         4.507e+04\n",
      "Df Model:                           2                                         \n",
      "Covariance Type:            nonrobust                                         \n",
      "==================================================================================\n",
      "                     coef    std err          t      P>|t|      [0.025      0.975]\n",
      "----------------------------------------------------------------------------------\n",
      "MedianIncome       0.4975      0.003    162.715      0.000       0.492       0.504\n",
      "AverageNoRooms     0.0045      0.002      2.170      0.030       0.000       0.009\n",
      "==============================================================================\n",
      "Omnibus:                     2782.541   Durbin-Watson:                   0.742\n",
      "Prob(Omnibus):                  0.000   Jarque-Bera (JB):             6089.229\n",
      "Skew:                           0.848   Prob(JB):                         0.00\n",
      "Kurtosis:                       5.136   Cond. No.                         4.61\n",
      "==============================================================================\n",
      "\n",
      "Warnings:\n",
      "[1] Standard Errors assume that the covariance matrix of the errors is correctly specified.\n"
     ]
    }
   ],
   "source": [
    "model2 = sm.OLS(data['MedianHouseValue'],data[['MedianIncome','AverageNoRooms']])\n",
    "results2 = model2.fit()\n",
    "print(results2.summary())"
   ]
  },
  {
   "cell_type": "markdown",
   "metadata": {},
   "source": [
    "<span style=\"color:blue\"> Fit did barely improve. Median Income still significant, Average number of rooms seems significant. </span>"
   ]
  },
  {
   "cell_type": "markdown",
   "metadata": {},
   "source": [
    "f) Now add all predictors and see which are significant."
   ]
  },
  {
   "cell_type": "code",
   "execution_count": 18,
   "metadata": {},
   "outputs": [
    {
     "name": "stdout",
     "output_type": "stream",
     "text": [
      "                            OLS Regression Results                            \n",
      "==============================================================================\n",
      "Dep. Variable:       MedianHouseValue   R-squared:                       0.574\n",
      "Model:                            OLS   Adj. R-squared:                  0.574\n",
      "Method:                 Least Squares   F-statistic:                     3312.\n",
      "Date:                Wed, 21 Nov 2018   Prob (F-statistic):               0.00\n",
      "Time:                        06:55:32   Log-Likelihood:                -18913.\n",
      "No. Observations:               19648   AIC:                         3.784e+04\n",
      "Df Residuals:                   19639   BIC:                         3.792e+04\n",
      "Df Model:                           8                                         \n",
      "Covariance Type:            nonrobust                                         \n",
      "=====================================================================================\n",
      "                        coef    std err          t      P>|t|      [0.025      0.975]\n",
      "-------------------------------------------------------------------------------------\n",
      "const               -33.5544      0.595    -56.352      0.000     -34.722     -32.387\n",
      "MedianIncome          0.4307      0.005     93.636      0.000       0.422       0.440\n",
      "HousingMedianAge      0.0081      0.000     19.711      0.000       0.007       0.009\n",
      "AverageNoRooms       -0.1081      0.006    -19.120      0.000      -0.119      -0.097\n",
      "AverageNoBedrooms     0.6018      0.026     23.085      0.000       0.551       0.653\n",
      "Population         5.324e-06   4.22e-06      1.262      0.207   -2.95e-06    1.36e-05\n",
      "AverageOccupancy     -0.0034      0.000     -8.003      0.000      -0.004      -0.003\n",
      "Latitude             -0.3772      0.007    -57.869      0.000      -0.390      -0.364\n",
      "Longitude            -0.3934      0.007    -57.650      0.000      -0.407      -0.380\n",
      "==============================================================================\n",
      "Omnibus:                     3455.761   Durbin-Watson:                   0.881\n",
      "Prob(Omnibus):                  0.000   Jarque-Bera (JB):            10185.770\n",
      "Skew:                           0.925   Prob(JB):                         0.00\n",
      "Kurtosis:                       6.003   Cond. No.                     2.43e+05\n",
      "==============================================================================\n",
      "\n",
      "Warnings:\n",
      "[1] Standard Errors assume that the covariance matrix of the errors is correctly specified.\n",
      "[2] The condition number is large, 2.43e+05. This might indicate that there are\n",
      "strong multicollinearity or other numerical problems.\n"
     ]
    }
   ],
   "source": [
    "#First, we add an intercept to create the model matrix\n",
    "model_matrix = sm.add_constant(data.iloc[:,1:])\n",
    "\n",
    "model3 = sm.OLS(data['MedianHouseValue'],model_matrix)\n",
    "results3 = model3.fit()\n",
    "print(results3.summary())"
   ]
  },
  {
   "cell_type": "markdown",
   "metadata": {},
   "source": [
    "<span style=\"color:blue\"> All of the predictors seem significant at significance $\\alpha=0.05$, except for Population, which is rejected. </span>"
   ]
  },
  {
   "cell_type": "markdown",
   "metadata": {},
   "source": [
    "## 3. Bias variance tradeoff"
   ]
  },
  {
   "cell_type": "markdown",
   "metadata": {},
   "source": [
    "### 3.1 Toy example of bias-variance tradeoff"
   ]
  },
  {
   "cell_type": "markdown",
   "metadata": {},
   "source": [
    "a) Look at the toy example presented in class. Consider a function $f(x)=2+0.2(x-5)^2$. Sample points $y=f(x)+\\epsilon$ for $x=1,2,...,10$ where $\\epsilon\\sim\\mathcal{N}(0,1)$ is mean zero variance one noise."
   ]
  },
  {
   "cell_type": "code",
   "execution_count": 19,
   "metadata": {},
   "outputs": [],
   "source": [
    "def function_f(x):\n",
    "    f = 2+0.2*(x-5)**2\n",
    "    return f\n",
    "\n",
    "x = np.arange(1,11)\n",
    "sample_points = function_f(x) + np.random.normal(0,1,10)\n"
   ]
  },
  {
   "cell_type": "markdown",
   "metadata": {},
   "source": [
    "b) Plot the data points as well as the true function.\n",
    "\n",
    "![](ps1-fig1.png)"
   ]
  },
  {
   "cell_type": "code",
   "execution_count": 20,
   "metadata": {},
   "outputs": [
    {
     "data": {
      "image/png": "[encoded data removed]",
      "text/plain": [
       "<matplotlib.figure.Figure at 0x108e4b9e8>"
      ]
     },
     "metadata": {
      "needs_background": "light"
     },
     "output_type": "display_data"
    }
   ],
   "source": [
    "#First define grid and corresponding function values to plot the true function\n",
    "grid = np.arange(1,10,0.01)\n",
    "f_grid = function_f(grid)\n",
    "\n",
    "plt.plot(grid,f_grid)\n",
    "plt.plot(x,sample_points,'bo')\n",
    "plt.ylim((0, 10))\n",
    "plt.show()"
   ]
  },
  {
   "cell_type": "markdown",
   "metadata": {},
   "source": [
    "c) Reproduce the fugure from the class where you fit polynomials of order 1, 2, 5, 10 to the data. (Hint: you can do this by creating new features which are x to a given power and then perform a linear regression). Plot the resulting curves.\n",
    "\n",
    "![](ps1-fig2.png)"
   ]
  },
  {
   "cell_type": "code",
   "execution_count": 21,
   "metadata": {},
   "outputs": [
    {
     "data": {
      "image/png": "[encoded data removed]",
      "text/plain": [
       "<matplotlib.figure.Figure at 0x1c17bde710>"
      ]
     },
     "metadata": {
      "needs_background": "light"
     },
     "output_type": "display_data"
    }
   ],
   "source": [
    "from sklearn.linear_model import LinearRegression\n",
    "fig = plt.figure(figsize=(12,8))\n",
    "\n",
    "exog = np.zeros(shape=(10,10))\n",
    "for ii in range(1,11):    \n",
    "    exog[:,ii-1] = x**ii\n",
    "    \n",
    "grid_matrix = np.zeros(shape=(len(grid),10))\n",
    "for ii in range(1,11):\n",
    "    grid_matrix[:,ii-1] = grid**ii\n",
    "\n",
    "plt.plot(grid,f_grid,label='True function')\n",
    "plt.plot(x,sample_points,'bo',label='Sample points')\n",
    "plt.ylim((0, 10))    \n",
    "    \n",
    "for kk in [1,2,5,10]:\n",
    "    X = exog[:,:(kk)]\n",
    "    Grid_x = grid_matrix[:,:(kk)]\n",
    "    model = LinearRegression().fit(X, sample_points)\n",
    "    plt.plot(grid,model.predict(Grid_x),label='Order '+str(kk))\n",
    "\n",
    "plt.legend()\n",
    "plt.show()"
   ]
  },
  {
   "cell_type": "markdown",
   "metadata": {},
   "source": [
    "d) (optional) Treat the above data as training data. Now generate 10 new observations again for $x=1,...,10$ and treat those as test data. Calculate the bias, variance, train and test error for each of the models."
   ]
  },
  {
   "cell_type": "markdown",
   "metadata": {},
   "source": [
    "<span style=\"color:blue\"> In order to calculate the bias and the variance, we will need multiple (test) data sets. </span>"
   ]
  },
  {
   "cell_type": "code",
   "execution_count": 29,
   "metadata": {},
   "outputs": [
    {
     "data": {
      "image/png": "[encoded data removed]",
      "text/plain": [
       "<matplotlib.figure.Figure at 0x1095ee4e0>"
      ]
     },
     "metadata": {
      "needs_background": "light"
     },
     "output_type": "display_data"
    }
   ],
   "source": [
    "#Define number of data sets and predefine matrices to collect predictions over all data sets\n",
    "n = 50\n",
    "\n",
    "predictions_mod1 = np.zeros(shape=(len(x),n))\n",
    "predictions_mod2 = np.zeros(shape=(len(x),n))\n",
    "predictions_mod5 = np.zeros(shape=(len(x),n))\n",
    "predictions_mod10 = np.zeros(shape=(len(x),n))\n",
    "\n",
    "f_true = function_f(x)\n",
    "\n",
    "#Loop over test sets\n",
    "for ii in range(0,n):\n",
    "    test_points = function_f(x) + np.random.normal(0,1,10)\n",
    "    test_predictions = np.zeros(shape=(10,11))\n",
    "    for kk in [1,2,5,10]:\n",
    "        X = exog[:,:(kk)]\n",
    "        model = LinearRegression().fit(X, test_points)\n",
    "        test_predictions[:,kk] = model.predict(exog[:,:(kk)])\n",
    "    predictions_mod1[:,ii] = test_predictions[:,1]\n",
    "    predictions_mod2[:,ii] = test_predictions[:,2]\n",
    "    predictions_mod5[:,ii] = test_predictions[:,5]\n",
    "    predictions_mod10[:,ii] = test_predictions[:,10]\n",
    "\n",
    "bias1 = np.sum((np.mean(predictions_mod1,axis=1) - f_true)**2)/len(x)\n",
    "variance1 = np.sum(np.std(predictions_mod1,axis=1)**2)/len(x)\n",
    "\n",
    "bias2 = np.sum((np.mean(predictions_mod2,axis=1) - f_true)**2)/len(x)\n",
    "variance2 = np.sum(np.std(predictions_mod2,axis=1)**2)/len(x)\n",
    "\n",
    "bias5 = np.sum((np.mean(predictions_mod5,axis=1) - f_true)**2)/len(x)\n",
    "variance5 = np.sum(np.std(predictions_mod5,axis=1)**2)/len(x)\n",
    "\n",
    "bias10 = np.sum((np.mean(predictions_mod10,axis=1) - f_true)**2)/len(x)\n",
    "variance10 = np.sum(np.std(predictions_mod10,axis=1)**2)/len(x)\n",
    "\n",
    "biases = np.array([bias1,bias2,bias5,bias10])\n",
    "variances = np.array([variance1,variance2,variance5,variance10])\n",
    "irreducible = np.ones(4)\n",
    "\n",
    "plt.plot([1,2,5,10],irreducible,'y--',label='irr')\n",
    "plt.plot([1,2,5,10],biases,'b--',label='bias')\n",
    "plt.plot([1,2,5,10],variances,'r--',label='variance')\n",
    "plt.plot([1,2,5,10],variances+biases+irreducible,'g--',label='RMSE')\n",
    "plt.legend()\n",
    "plt.show()"
   ]
  },
  {
   "cell_type": "markdown",
   "metadata": {},
   "source": [
    "<span style=\"color:blue\"> As we increse order complexity, variance increases. Bias first drops sharply and then slightly increases. In order to compare the models with respect to train and test error, we simply look at one additional test set and use the original sample points as training points. </span>"
   ]
  },
  {
   "cell_type": "code",
   "execution_count": 35,
   "metadata": {},
   "outputs": [
    {
     "name": "stdout",
     "output_type": "stream",
     "text": [
      "[1.04626460e+01 4.65056574e+00 3.55157163e+00 7.15783651e-06]\n",
      "[13.63230632  5.55357325  5.22914883  6.59478869]\n"
     ]
    }
   ],
   "source": [
    "test_points = function_f(x) + np.random.normal(0,1,10)\n",
    "test_predictions = np.zeros(shape=(10,11))\n",
    "for kk in [1,2,5,10]:\n",
    "    X = exog[:,:(kk)]\n",
    "    model = LinearRegression().fit(X, sample_points)\n",
    "    test_predictions[:,kk] = model.predict(exog[:,:(kk)])\n",
    "\n",
    "test_predictions = test_predictions[:,[1,2,5,10]]\n",
    "\n",
    "train_errors = np.linalg.norm(test_predictions - np.expand_dims(sample_points,1),1,axis=0)\n",
    "test_errors = np.linalg.norm(test_predictions - np.expand_dims(test_points,1),1,axis=0)\n",
    "print(train_errors)\n",
    "print(test_errors)"
   ]
  },
  {
   "cell_type": "markdown",
   "metadata": {},
   "source": [
    "<span style=\"color:blue\"> Note that while train errors decrease with increasing model complexity, test error actually increases beyond quadratic model. </span>"
   ]
  },
  {
   "cell_type": "markdown",
   "metadata": {},
   "source": [
    "### 3.2 Working with train and test sets "
   ]
  },
  {
   "cell_type": "markdown",
   "metadata": {},
   "source": [
    "In exercise 2 we looked at the Housing data set and performed linear regressions. However, we did not properly split the data in train and test set. \n",
    "\n",
    "Create a training data set containing a (random) 2/3 of the data and a test set containing the remaining 1/3. Repeat the regressions from exercise 2 and confirm the error on the test set."
   ]
  },
  {
   "cell_type": "code",
   "execution_count": 36,
   "metadata": {
    "scrolled": true
   },
   "outputs": [
    {
     "name": "stdout",
     "output_type": "stream",
     "text": [
      "0.7764537195289071\n"
     ]
    }
   ],
   "source": [
    "data = pd.read_csv('California-Housing.txt', sep=\",\")\n",
    "\n",
    "mask = np.random.rand(len(data)) < 0.667\n",
    "train = data[mask]\n",
    "test = data[~mask]\n",
    "\n",
    "model = sm.OLS(train['MedianHouseValue'],train['MedianIncome'])\n",
    "results = model.fit()\n",
    "\n",
    "ypred = results.predict(test['MedianIncome'])\n",
    "RMSE = np.linalg.norm(ypred - test['MedianHouseValue'])/np.sqrt(len(ypred))\n",
    "print(RMSE)"
   ]
  },
  {
   "cell_type": "markdown",
   "metadata": {},
   "source": [
    "<span style=\"color:blue\"> The test error of the simple model only including MedianIncome as regressor is comparable to the train error. </span>"
   ]
  },
  {
   "cell_type": "markdown",
   "metadata": {},
   "source": [
    "<span style=\"color:blue\"> The other regression can be done based on train and test set analogously. </span>"
   ]
  },
  {
   "cell_type": "code",
   "execution_count": null,
   "metadata": {},
   "outputs": [],
   "source": []
  },
  {
   "cell_type": "code",
   "execution_count": null,
   "metadata": {},
   "outputs": [],
   "source": []
  }
 ],
 "metadata": {
  "kernelspec": {
   "display_name": "Python 3",
   "language": "python",
   "name": "python3"
  },
  "language_info": {
   "codemirror_mode": {
    "name": "ipython",
    "version": 3
   },
   "file_extension": ".py",
   "mimetype": "text/x-python",
   "name": "python",
   "nbconvert_exporter": "python",
   "pygments_lexer": "ipython3",
   "version": "3.7.1"
  }
 },
 "nbformat": 4,
 "nbformat_minor": 2
}
